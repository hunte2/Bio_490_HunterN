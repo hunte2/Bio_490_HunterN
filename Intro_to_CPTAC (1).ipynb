{
 "cells": [
  {
   "cell_type": "markdown",
   "id": "9f3b6a87",
   "metadata": {},
   "source": [
    "# Introduction to CPTAC and Proteomics\n",
    "\n",
    "This document will take you through the basics of CPTAC and analyzing proteomic data in python. Let's get started!"
   ]
  },
  {
   "cell_type": "markdown",
   "id": "64ad08b5",
   "metadata": {},
   "source": [
    "## Setting up your working directory\n",
    "\n",
    "Set your working directory to your analysis_data folder."
   ]
  },
  {
   "cell_type": "code",
   "execution_count": 2,
   "id": "a53acaad",
   "metadata": {},
   "outputs": [],
   "source": [
    "import os\n",
    "\n",
    "os.chdir(\"/Users/hunter/Desktop/QBIO_490_HunterN/analysis_data\")"
   ]
  },
  {
   "cell_type": "markdown",
   "id": "bcf734ad",
   "metadata": {},
   "source": [
    "### Start exploring CPTAC with `cptac`\n",
    "Similar to TCGAbiolinks, we need to load the package and download the data before using.\n",
    "1. Import the package (`cptac`).\n",
    "2. Look at the data sets available to us with the list_datasets() function. As a reminder, remember the package_name.method() syntax!\n",
    "3. Download the one of interest (BRCA in our case).\n",
    "4. Load it into our python environment."
   ]
  },
  {
   "cell_type": "code",
   "execution_count": 14,
   "id": "3274cad7",
   "metadata": {},
   "outputs": [
    {
     "name": "stdout",
     "output_type": "stream",
     "text": [
      "                                           Description     Data reuse status  \\\n",
      "Dataset name                                                                   \n",
      "Brca                                     breast cancer       no restrictions   \n",
      "Ccrcc         clear cell renal cell carcinoma (kidney)       no restrictions   \n",
      "Colon                                colorectal cancer       no restrictions   \n",
      "Endometrial            endometrial carcinoma (uterine)       no restrictions   \n",
      "Gbm                                       glioblastoma       no restrictions   \n",
      "Hnscc            head and neck squamous cell carcinoma       no restrictions   \n",
      "Lscc                      lung squamous cell carcinoma       no restrictions   \n",
      "Luad                               lung adenocarcinoma       no restrictions   \n",
      "Ovarian               high grade serous ovarian cancer       no restrictions   \n",
      "Pdac                  pancreatic ductal adenocarcinoma       no restrictions   \n",
      "UcecConf            endometrial confirmatory carcinoma  password access only   \n",
      "GbmConf                      glioblastoma confirmatory  password access only   \n",
      "\n",
      "                                       Publication link  \n",
      "Dataset name                                             \n",
      "Brca          https://pubmed.ncbi.nlm.nih.gov/33212010/  \n",
      "Ccrcc         https://pubmed.ncbi.nlm.nih.gov/31675502/  \n",
      "Colon         https://pubmed.ncbi.nlm.nih.gov/31031003/  \n",
      "Endometrial   https://pubmed.ncbi.nlm.nih.gov/32059776/  \n",
      "Gbm           https://pubmed.ncbi.nlm.nih.gov/33577785/  \n",
      "Hnscc         https://pubmed.ncbi.nlm.nih.gov/33417831/  \n",
      "Lscc          https://pubmed.ncbi.nlm.nih.gov/34358469/  \n",
      "Luad          https://pubmed.ncbi.nlm.nih.gov/32649874/  \n",
      "Ovarian       https://pubmed.ncbi.nlm.nih.gov/27372738/  \n",
      "Pdac          https://pubmed.ncbi.nlm.nih.gov/34534465/  \n",
      "UcecConf                                    unpublished  \n",
      "GbmConf                                     unpublished  \n"
     ]
    },
    {
     "name": "stderr",
     "output_type": "stream",
     "text": [
      "cptac warning: Your version of cptac (1.1.2) is out-of-date. Latest is 1.5.5. Please run 'pip install --upgrade cptac' to update it. (/Users/hunter/anaconda3/lib/python3.11/threading.py, line 975)\n"
     ]
    }
   ],
   "source": [
    "# 1. Import cptac\n",
    "import cptac\n",
    "\n",
    "\n",
    "\n",
    "# 2. Examine the data sets available with list_datasets()\n",
    "datasets = cptac.list_datasets()\n",
    "print(datasets)"
   ]
  },
  {
   "cell_type": "code",
   "execution_count": 15,
   "id": "aeb53aa2",
   "metadata": {},
   "outputs": [
    {
     "name": "stdout",
     "output_type": "stream",
     "text": [
      "                                         \r"
     ]
    }
   ],
   "source": [
    "# 3. Download the breast cancer data set -- fill in dataset!\n",
    "cptac.download(dataset=\"BRCA\")\n",
    "\n",
    "# 4. Load the breast cancer data set\n",
    "brca = cptac.Brca()"
   ]
  },
  {
   "cell_type": "markdown",
   "id": "fadf54d4",
   "metadata": {},
   "source": [
    "Now, we have our brca object containing a bunch of data. We can use the list_data() function the data available for the breast cancer dataset.\n",
    "<br></br>\n",
    "In addition to the proteomics data, we can also accesss the accompanying transcriptomics, CNV, etc. using this object. We will focus on the omics which we have already seen for this course; however, other data present in this dataset are also pretty interesting. Finally, many proteins can't be identified very well, so they won't appear as a column (for example, APC isn't in the proteomics data set).\n",
    "<br></br>\n",
    "**Exercise 1.1** Call the list_data() function from the brca object to examine the different data contained in the brca object. Much like calling functions from a package, we can use the brca.function() syntax.\n",
    "\n",
    "* How many patients do you think there are in this dataset? (Make an educated guess about this from the dimensions - we'll confirm your answer later on)"
   ]
  },
  {
   "cell_type": "code",
   "execution_count": 18,
   "id": "f96afeaf",
   "metadata": {},
   "outputs": [
    {
     "name": "stdout",
     "output_type": "stream",
     "text": [
      "Below are the dataframes contained in this dataset and their dimensions:\n",
      "\n",
      "acetylproteomics\n",
      "\t122 rows\n",
      "\t9868 columns\n",
      "clinical\n",
      "\t122 rows\n",
      "\t18 columns\n",
      "CNV\n",
      "\t122 rows\n",
      "\t23692 columns\n",
      "derived_molecular\n",
      "\t122 rows\n",
      "\t36 columns\n",
      "phosphoproteomics\n",
      "\t122 rows\n",
      "\t38775 columns\n",
      "proteomics\n",
      "\t122 rows\n",
      "\t10107 columns\n",
      "somatic_mutation\n",
      "\t24106 rows\n",
      "\t3 columns\n",
      "transcriptomics\n",
      "\t122 rows\n",
      "\t23121 columns\n"
     ]
    },
    {
     "ename": "TypeError",
     "evalue": "'module' object is not callable",
     "output_type": "error",
     "traceback": [
      "\u001b[0;31m---------------------------------------------------------------------------\u001b[0m",
      "\u001b[0;31mTypeError\u001b[0m                                 Traceback (most recent call last)",
      "Cell \u001b[0;32mIn[18], line 3\u001b[0m\n\u001b[1;32m      1\u001b[0m \u001b[38;5;66;03m# Run the list_data() function\u001b[39;00m\n\u001b[1;32m      2\u001b[0m brca\u001b[38;5;241m.\u001b[39mlist_data()\n\u001b[0;32m----> 3\u001b[0m patient_data \u001b[38;5;241m=\u001b[39m cptac\u001b[38;5;241m.\u001b[39mbrca(\u001b[38;5;124m\"\u001b[39m\u001b[38;5;124mpatient\u001b[39m\u001b[38;5;124m\"\u001b[39m)\n",
      "\u001b[0;31mTypeError\u001b[0m: 'module' object is not callable"
     ]
    }
   ],
   "source": [
    "# Run the list_data() function\n",
    "brca.list_data()\n",
    "patient_data = cptac.brca(\"patient\")\n",
    "#around 100 patients in the data set"
   ]
  },
  {
   "cell_type": "code",
   "execution_count": null,
   "id": "f14d8c0c",
   "metadata": {},
   "outputs": [],
   "source": []
  },
  {
   "cell_type": "markdown",
   "id": "ab6034bd",
   "metadata": {},
   "source": [
    "**Exercise 1.2** Use the get_proteomics() function to store the proteomics data into a new data frame."
   ]
  },
  {
   "cell_type": "code",
   "execution_count": 20,
   "id": "2f7abc05",
   "metadata": {},
   "outputs": [],
   "source": [
    "protein_data = brca.get_proteomics() # get the proteomics data\n",
    "protein_data # view the data\n",
    "\n",
    "\n",
    "# Uncomment and run this command after you get the data, you don't really need to know what it does but it collapses\n",
    "# the column names and gets rid of the database_IDs which will make our lives much easier!\n",
    "\n",
    "protein_data.columns = protein_data.columns.get_level_values(0) \n"
   ]
  },
  {
   "cell_type": "markdown",
   "id": "1188f104",
   "metadata": {},
   "source": [
    "## (2) Exploring the Data\n",
    "\n",
    "As mentioned earlier, `cptac` data is in the form of `pandas` dataframes. Let's load that and `numpy`. \n",
    "\n",
    "**Exercise 2.1** Import numpy and pandas with their usual shortened names (pd and np)."
   ]
  },
  {
   "cell_type": "code",
   "execution_count": 21,
   "id": "8ace4453",
   "metadata": {
    "scrolled": true
   },
   "outputs": [],
   "source": [
    "import numpy as np\n",
    "import pandas as pd"
   ]
  },
  {
   "cell_type": "markdown",
   "id": "2b18a548",
   "metadata": {},
   "source": [
    "Remember that we can access the rows/column names of a data frame in two ways:\n",
    "1. We can get the row and column names together in a list with the `axes` attribute.\n",
    "2. We can get the row or column names individually in the `index` (row) or `columns` (column) attribute.\n",
    "<br></br>\n",
    "**Exercise 2.2** Print the axes, index, and columns of the protein_data object. Then, determine its dimensions using the shape attribute. Finally, answer the following questions:\n",
    "\n",
    "* How many rows and columns are there in the data frame?\n",
    "* What do the rows and columns represent?\n",
    "* How many patients are there?\n",
    "* What about proteins?"
   ]
  },
  {
   "cell_type": "code",
   "execution_count": 26,
   "id": "1501f26c",
   "metadata": {},
   "outputs": [
    {
     "name": "stdout",
     "output_type": "stream",
     "text": [
      "[Index(['CPT000814', 'CPT001846', 'X01BR001', 'X01BR008', 'X01BR009',\n",
      "       'X01BR010', 'X01BR015', 'X01BR017', 'X01BR018', 'X01BR020',\n",
      "       ...\n",
      "       'X20BR002', 'X20BR005', 'X20BR006', 'X20BR007', 'X20BR008', 'X21BR001',\n",
      "       'X21BR002', 'X21BR010', 'X22BR005', 'X22BR006'],\n",
      "      dtype='object', name='Patient_ID', length=122), Index(['A1BG', 'A2M', 'A2ML1', 'AAAS', 'AACS', 'AADAT', 'AAED1', 'AAGAB',\n",
      "       'AAK1', 'AAMDC',\n",
      "       ...\n",
      "       'ZSCAN31', 'ZSWIM8', 'ZW10', 'ZWILCH', 'ZWINT', 'ZXDC', 'ZYG11B', 'ZYX',\n",
      "       'ZZEF1', 'ZZZ3'],\n",
      "      dtype='object', name='Name', length=10107)]\n",
      "Index(['CPT000814', 'CPT001846', 'X01BR001', 'X01BR008', 'X01BR009',\n",
      "       'X01BR010', 'X01BR015', 'X01BR017', 'X01BR018', 'X01BR020',\n",
      "       ...\n",
      "       'X20BR002', 'X20BR005', 'X20BR006', 'X20BR007', 'X20BR008', 'X21BR001',\n",
      "       'X21BR002', 'X21BR010', 'X22BR005', 'X22BR006'],\n",
      "      dtype='object', name='Patient_ID', length=122)\n",
      "Index(['A1BG', 'A2M', 'A2ML1', 'AAAS', 'AACS', 'AADAT', 'AAED1', 'AAGAB',\n",
      "       'AAK1', 'AAMDC',\n",
      "       ...\n",
      "       'ZSCAN31', 'ZSWIM8', 'ZW10', 'ZWILCH', 'ZWINT', 'ZXDC', 'ZYG11B', 'ZYX',\n",
      "       'ZZEF1', 'ZZZ3'],\n",
      "      dtype='object', name='Name', length=10107)\n"
     ]
    }
   ],
   "source": [
    "print(protein_data.axes)\n",
    "print(protein_data.index)\n",
    "print(protein_data.columns)"
   ]
  },
  {
   "cell_type": "markdown",
   "id": "6db06758",
   "metadata": {},
   "source": [
    "Remember we can access data by name using `.loc[]` and `.iloc[]`. Since this dataset is really large, we won't really use `.iloc[]` which accesses by index. To get the protein expression information for a specific patient, therefore, we would run something like this: "
   ]
  },
  {
   "cell_type": "code",
   "execution_count": null,
   "id": "5158710b",
   "metadata": {},
   "outputs": [],
   "source": [
    "protein_data.loc[\"patient ID\",\"protein name\"] # this is the general case, you have to fill in actual IDs/protein names"
   ]
  },
  {
   "cell_type": "markdown",
   "id": "0c4e080d",
   "metadata": {},
   "source": [
    "**Exercise 2.3** Remember that the numerical data in CPTAC is the relative fold change, not an absolute value/count. Given this, what kind of number would represent lower relative expression? What kind of number would represent higher relative expression? (Hint: reference level is 0) "
   ]
  },
  {
   "cell_type": "markdown",
   "id": "41a92fdf",
   "metadata": {},
   "source": [
    "anything negative would represent lower relative expression, while positive numbers would represent higher relative expression.\n"
   ]
  },
  {
   "cell_type": "markdown",
   "id": "ccdaaa65",
   "metadata": {},
   "source": [
    "**Exericse 2.4**\n",
    "\n",
    "Print the relative fold change of patient `X01BR008` in the `TP53` protein. Then, interpret this value -- does this patient have higher or lower protein levels than the reference? (Hint: use .loc[] and remember that a `:` can be used in either the row or column slot to access every row or every column.)\n"
   ]
  },
  {
   "cell_type": "code",
   "execution_count": 28,
   "id": "112a5055",
   "metadata": {},
   "outputs": [],
   "source": [
    "## write code here\n",
    "log2FC = protein_data.loc[\"X01BR008\",\"TP53\"]"
   ]
  },
  {
   "cell_type": "markdown",
   "id": "e66937a6",
   "metadata": {},
   "source": [
    "### Using Boolean indexing\n",
    "\n",
    "In R, we used the `ifelse()` function very heavily to assign categories, such as classifying patients as \"old\" or \"young\". In Python, we have the `where(COND, TRUE_VAL, FALSE_VAL)` function from numpy, which works extremely similarly to ifelse(). That is:\n",
    "\n",
    "   1. The first parameter is the condition (a boolean vector; i.e. Trues and Falses).\n",
    "   2. The second parameter is the value to fill the True conditions.\n",
    "   3. The third parameter is the value to fil lthe False conditions.\n",
    "    \n",
    "The following example (split into the four code blocks below) shows how to apply the `where()` function, in the context of telling if a number is odd or even."
   ]
  },
  {
   "cell_type": "code",
   "execution_count": null,
   "id": "877c4f62",
   "metadata": {
    "scrolled": true
   },
   "outputs": [],
   "source": [
    "# first let's create our example array\n",
    "\n",
    "number_example_array = pd.DataFrame({\"nums\": [0, 1, 2, 3, 4, 5]})\n",
    "number_example_array"
   ]
  },
  {
   "cell_type": "code",
   "execution_count": null,
   "id": "877ea8ef",
   "metadata": {},
   "outputs": [],
   "source": [
    "# now, let's make a boolean vector where odds will be True, evens will be False\n",
    "boolean_vector = (number_example_array % 2 == 1)\n",
    "boolean_vector"
   ]
  },
  {
   "cell_type": "code",
   "execution_count": null,
   "id": "11f0d23e",
   "metadata": {},
   "outputs": [],
   "source": [
    "# then add this vector as a column in our array (we could do this and the above in one step)\n",
    "number_example_array[\"boolean_vector\"] = boolean_vector\n",
    "number_example_array"
   ]
  },
  {
   "cell_type": "code",
   "execution_count": null,
   "id": "e85d10e5",
   "metadata": {},
   "outputs": [],
   "source": [
    "# lastly, let's add a third column called \"parity\" that says based off of \"boolean_vector\" if our value is odd/even\n",
    "number_example_array[\"parity\"] = np.where(boolean_vector, \"Odd\", \"Even\")\n",
    "number_example_array"
   ]
  },
  {
   "cell_type": "markdown",
   "id": "3ae3e913",
   "metadata": {},
   "source": [
    "**Exercise 2.5** Access the following:\n",
    "\n",
    "1. Use boolean indexing to access the patient IDs with high (≥1) `TP53` expression. Save this in a pandas DataFrame called `high_TP53`. HINTS:\n",
    "    * Think about if protein expression information will be contained in a row or a column!\n",
    "    * Create a boolean mask with the row/column that contains the expression information of `TP53`.\n",
    "    * Apply the mask to the row/column names that contains the patient IDs.\n",
    "2. How many patients are there in `high_TP53`? Which axis (columns or rows) represents proteins?\n",
    "3. Add a column to `high_TP53` that has the values \"High\"/\"Average\"/\"Low\" based on ARF1 expression.\n",
    "4. How many patients have high expression of both `TP53` and average expression of `ARF1`?"
   ]
  },
  {
   "cell_type": "code",
   "execution_count": 47,
   "id": "d71d7b15",
   "metadata": {},
   "outputs": [
    {
     "name": "stdout",
     "output_type": "stream",
     "text": [
      "Number of patients in high TP53: 122\n",
      "Number of patients with high TP53 and average ARF1: 122\n"
     ]
    },
    {
     "name": "stderr",
     "output_type": "stream",
     "text": [
      "/var/folders/rw/q82gzvv96n9381xcd32rp9w40000gn/T/ipykernel_87850/595099341.py:10: SettingWithCopyWarning: \n",
      "A value is trying to be set on a copy of a slice from a DataFrame.\n",
      "Try using .loc[row_indexer,col_indexer] = value instead\n",
      "\n",
      "See the caveats in the documentation: https://pandas.pydata.org/pandas-docs/stable/user_guide/indexing.html#returning-a-view-versus-a-copy\n",
      "  high_TP53[\"ARF1_Expression\"] = \"Average\"\n"
     ]
    }
   ],
   "source": [
    "import pandas as pd\n",
    "import numpy as np\n",
    "\n",
    "tp53_mask = (protein_data.columns == \"TP53\") & (protein_data >= 1).any()\n",
    "\n",
    "high_TP53 = protein_data.loc[:, tp53_mask]\n",
    "\n",
    "num_patients = high_TP53.shape[0]\n",
    "\n",
    "high_TP53[\"ARF1_Expression\"] = \"Average\"\n",
    "\n",
    "arf1_mask = (protein_data.columns == \"ARF1\") & (protein_data >= 1).any()\n",
    "\n",
    "high_arf1_patients = np.any(protein_data.loc[:, arf1_mask], axis=1)\n",
    "\n",
    "high_TP53.loc[high_arf1_patients, \"ARF1_Expression\"] = \"High\"\n",
    "\n",
    "high_TP53_and_arf1 = high_TP53[high_TP53[\"ARF1_Expression\"] == \"High\"]\n",
    "\n",
    "print(\"Number of patients in high TP53:\", num_patients)\n",
    "print(\"Number of patients with high TP53 and average ARF1:\", len(high_TP53_and_arf1))\n",
    "#Axis that is representing proteins is columns"
   ]
  },
  {
   "cell_type": "markdown",
   "id": "5e91a353",
   "metadata": {},
   "source": [
    "## (3) Additional data in CPTAC\n",
    "\n",
    "You can also access other data using the `cptac` python package for the same patients, using the corresponding get function.\n",
    "\n",
    "**Exercise 3.1** Access the RNA (transcriptomics) and clinical data from the brca object. The function name is very similar in syntax to the get_proteomics() function from before!"
   ]
  },
  {
   "cell_type": "code",
   "execution_count": 62,
   "id": "26ae7024",
   "metadata": {},
   "outputs": [],
   "source": [
    "rna_data = brca.get_transcriptomics()\n",
    "clinical_data = brca.get_clinical()"
   ]
  },
  {
   "cell_type": "markdown",
   "id": "7d217ca6",
   "metadata": {},
   "source": [
    "**Exercise 3.2** Examine these dataframes. In particular:\n",
    "\n",
    "* What do the values in the rna_data data frame represent?\n",
    "* Compare the dimensions of the high_TP53, rna_data, and clinical_data. Are they equal?"
   ]
  },
  {
   "cell_type": "code",
   "execution_count": 63,
   "id": "0ef35657",
   "metadata": {},
   "outputs": [
    {
     "name": "stdout",
     "output_type": "stream",
     "text": [
      "RNA Data (Transcriptomics):\n",
      "Name          A1BG  A1BG-AS1  A1CF     A2M   A2ML1   A2MP1  A3GALT2  A4GALT  \\\n",
      "Patient_ID                                                                    \n",
      "CPT000814   1.9265    2.4267   NaN  5.3718  3.6437 -4.5301  -5.2608  0.6260   \n",
      "CPT001846   3.6578    2.6524   NaN  5.3253 -5.1069 -0.7692   5.6915  3.2060   \n",
      "X01BR001    0.9896    2.6363   NaN  5.4734 -1.5052 -2.0918      NaN  1.8816   \n",
      "X01BR008    0.5535    2.2119   NaN  5.8701  3.2708 -1.9902  -5.0414  0.6957   \n",
      "X01BR009    2.8359    3.3449   NaN  6.9307  2.6488 -3.1664      NaN  1.9784   \n",
      "\n",
      "Name         A4GNT    AAAS  ...  ZWILCH   ZWINT    ZXDA    ZXDB    ZXDC  \\\n",
      "Patient_ID                  ...                                           \n",
      "CPT000814      NaN  4.7000  ...  3.2268  5.1482 -0.0202  0.9270  5.1699   \n",
      "CPT001846      NaN  4.3115  ...  3.2532  3.9191 -1.4924 -0.3262  3.2163   \n",
      "X01BR001       NaN  3.3434  ...  1.9491  2.2365  0.1694  1.3074  2.8806   \n",
      "X01BR008       NaN  4.3095  ...  3.1575  5.7822 -1.3608  0.3015  3.2620   \n",
      "X01BR009   -5.7975  4.6341  ...  2.7678  3.5378 -0.5147  0.2798  3.0986   \n",
      "\n",
      "Name        ZYG11A  ZYG11B     ZYX   ZZEF1    ZZZ3  \n",
      "Patient_ID                                          \n",
      "CPT000814   3.1333  0.9835  5.9499  2.8499  3.6497  \n",
      "CPT001846      NaN  2.0909  7.0671  2.0780  3.2274  \n",
      "X01BR001    0.5653  1.5682  4.3852  2.1573  2.1127  \n",
      "X01BR008    1.7578  0.2989  5.4697  3.1783  3.1939  \n",
      "X01BR009   -3.2737  1.3036  5.0219  3.6868  2.8524  \n",
      "\n",
      "[5 rows x 23121 columns]\n",
      "\n",
      "Clinical Data:\n",
      "Name       Replicate_Measurement_IDs Sample_Tumor_Normal TMT.Plex TMT.Channel  \\\n",
      "Patient_ID                                                                      \n",
      "CPT000814                  CPT000814               Tumor       13        127C   \n",
      "CPT001846                  CPT001846               Tumor       12        128C   \n",
      "X01BR001                    X01BR001               Tumor        2        129N   \n",
      "X01BR008                    X01BR008               Tumor       16        127C   \n",
      "X01BR009                    X01BR009               Tumor       16        127N   \n",
      "\n",
      "Name            Stage  Ischemia.Time.in.Minutes  PAM50 NMF.Cluster  \\\n",
      "Patient_ID                                                           \n",
      "CPT000814   Stage IIA                       NaN  Basal     Basal-I   \n",
      "CPT001846   Stage III                       NaN  Basal     Basal-I   \n",
      "X01BR001    Stage IIB                       0.0  Basal     Basal-I   \n",
      "X01BR008          NaN                       NaN  Basal     Basal-I   \n",
      "X01BR009          NaN                       NaN  Basal     Basal-I   \n",
      "\n",
      "Name        NMF.Cluster.Membership.Score  Age.in.Month  Gender  \\\n",
      "Patient_ID                                                       \n",
      "CPT000814                          1.000           NaN     NaN   \n",
      "CPT001846                          0.672           NaN     NaN   \n",
      "X01BR001                           0.782         660.0  female   \n",
      "X01BR008                           0.958           NaN     NaN   \n",
      "X01BR009                           0.825           NaN     NaN   \n",
      "\n",
      "Name                        Ethnicity ER.Updated.Clinical.Status  \\\n",
      "Patient_ID                                                         \n",
      "CPT000814   black.or.african.american                   negative   \n",
      "CPT001846                       white                   negative   \n",
      "X01BR001    black.or.african.american                   negative   \n",
      "X01BR008                          NaN                        NaN   \n",
      "X01BR009                          NaN                   negative   \n",
      "\n",
      "Name       PR.Clinical.Status ERBB2.Updated.Clinical.Status  \\\n",
      "Patient_ID                                                    \n",
      "CPT000814            negative                           NaN   \n",
      "CPT001846            negative                           NaN   \n",
      "X01BR001             negative                      negative   \n",
      "X01BR008                  NaN                           NaN   \n",
      "X01BR009             negative                           NaN   \n",
      "\n",
      "Name       TNBC.Updated.Clinical.Status ERBB2.Proteogenomic.Status  \\\n",
      "Patient_ID                                                           \n",
      "CPT000814                      positive                   negative   \n",
      "CPT001846                      positive                   negative   \n",
      "X01BR001                       positive                   negative   \n",
      "X01BR008                            NaN                   negative   \n",
      "X01BR009                       positive                   negative   \n",
      "\n",
      "Name       TOP2A.Proteogenomic.Status  \n",
      "Patient_ID                             \n",
      "CPT000814                    negative  \n",
      "CPT001846                    negative  \n",
      "X01BR001                     negative  \n",
      "X01BR008                     negative  \n",
      "X01BR009                     negative  \n",
      "\n",
      "Dimensions of Data Frames:\n",
      "High_TP53 Shape: (122, 2)\n",
      "RNA Data Shape: (122, 23121)\n",
      "Clinical Data Shape: (122, 18)\n"
     ]
    }
   ],
   "source": [
    "# explore the data frames using shape, axes, and other functions we've gone over.\n",
    "print(\"RNA Data (Transcriptomics):\")\n",
    "print(rna_data.head())\n",
    "\n",
    "print(\"\\nClinical Data:\")\n",
    "print(clinical_data.head())\n",
    "\n",
    "print(\"\\nDimensions of Data Frames:\")\n",
    "print(\"High_TP53 Shape:\", high_TP53.shape)\n",
    "print(\"RNA Data Shape:\", rna_data.shape)\n",
    "print(\"Clinical Data Shape:\", clinical_data.shape)\n",
    "\n",
    "#The values represent"
   ]
  },
  {
   "cell_type": "markdown",
   "id": "67f6107d",
   "metadata": {},
   "source": [
    "The dimensions for each dataframe might not be equal depending on if you masked some patients. That's where the `intersect1d()` function from numpy becomes really useful, especially if we want to analyze transcriptomics, proteomics, and clinical data together. This lets us see which patient barcodes are shared between the data frames.\n",
    "\n",
    "\n",
    "Let's take a look at all of the patients who are older than 50 years old at the time of diagnosis. \n",
    "<br></br>\n",
    "**Exercise 3.3**\n",
    "1.  Use the clinical data DataFrame to create a boolean mask for the condition of patients being older than 50.\n",
    "2.  Mask the clinical data and assign it to a DataFrame called 'masked_clinical'."
   ]
  },
  {
   "cell_type": "code",
   "execution_count": 84,
   "id": "27343c31",
   "metadata": {},
   "outputs": [
    {
     "name": "stdout",
     "output_type": "stream",
     "text": [
      "Masked Clinical Data for Patients Older Than 50:\n",
      "Name       Replicate_Measurement_IDs Sample_Tumor_Normal TMT.Plex TMT.Channel  \\\n",
      "Patient_ID                                                                      \n",
      "X01BR001                    X01BR001               Tumor        2        129N   \n",
      "X01BR018                    X01BR018               Tumor        7        129N   \n",
      "X01BR025                    X01BR025               Tumor        9        127N   \n",
      "X01BR027                    X01BR027               Tumor        3        127N   \n",
      "X01BR030                    X01BR030               Tumor        7        128C   \n",
      "\n",
      "Name             Stage  Ischemia.Time.in.Minutes  PAM50 NMF.Cluster  \\\n",
      "Patient_ID                                                            \n",
      "X01BR001     Stage IIB                       0.0  Basal     Basal-I   \n",
      "X01BR018    Stage IIIA                       1.0  Basal     Basal-I   \n",
      "X01BR025    Stage IIIA                       6.0   LumA      LumB-I   \n",
      "X01BR027     Stage IIA                       8.0  Basal     Basal-I   \n",
      "X01BR030    Stage IIIA                       4.0   LumA      LumA-I   \n",
      "\n",
      "Name        NMF.Cluster.Membership.Score  Age.in.Month  Gender  \\\n",
      "Patient_ID                                                       \n",
      "X01BR001                           0.782         660.0  female   \n",
      "X01BR018                           0.915         792.0  female   \n",
      "X01BR025                           0.551         744.0  female   \n",
      "X01BR027                           1.000         960.0  female   \n",
      "X01BR030                           0.409        1010.0  female   \n",
      "\n",
      "Name                        Ethnicity ER.Updated.Clinical.Status  \\\n",
      "Patient_ID                                                         \n",
      "X01BR001    black.or.african.american                   negative   \n",
      "X01BR018                        white                   positive   \n",
      "X01BR025    black.or.african.american                   positive   \n",
      "X01BR027    black.or.african.american                   negative   \n",
      "X01BR030    black.or.african.american                   positive   \n",
      "\n",
      "Name       PR.Clinical.Status ERBB2.Updated.Clinical.Status  \\\n",
      "Patient_ID                                                    \n",
      "X01BR001             negative                      negative   \n",
      "X01BR018             negative                      negative   \n",
      "X01BR025             positive                     equivocal   \n",
      "X01BR027             negative                      negative   \n",
      "X01BR030             positive                      negative   \n",
      "\n",
      "Name       TNBC.Updated.Clinical.Status ERBB2.Proteogenomic.Status  \\\n",
      "Patient_ID                                                           \n",
      "X01BR001                       positive                   negative   \n",
      "X01BR018                       negative                   negative   \n",
      "X01BR025                       negative                   negative   \n",
      "X01BR027                       positive                   negative   \n",
      "X01BR030                       negative                   negative   \n",
      "\n",
      "Name       TOP2A.Proteogenomic.Status        Age  \n",
      "Patient_ID                                        \n",
      "X01BR001                     negative  55.000000  \n",
      "X01BR018                     negative  66.000000  \n",
      "X01BR025                     negative  62.000000  \n",
      "X01BR027                     negative  80.000000  \n",
      "X01BR030                     negative  84.166667  \n"
     ]
    }
   ],
   "source": [
    "age_mask = clinical_data['Age'] > 50\n",
    "\n",
    "masked_clinical = clinical_data[age_mask]\n",
    "\n",
    "print(\"Masked Clinical Data for Patients Older Than 50:\")\n",
    "print(masked_clinical.head())"
   ]
  },
  {
   "cell_type": "markdown",
   "id": "d356f73c",
   "metadata": {},
   "source": [
    "Now that we have masked our data, if we tried to do an analysis using the different data frames, we would get a lot of errors since we are now missing some patients in our masked_clinical data frame. If we want to get the patients who are present in the masked data as well as the rna_data and protein_data, we can use intersect1d().\n",
    "\n",
    "**Exercise 3.4**\n",
    "1. Use `intersect1d()` from np to create a list that contains the patient IDs for each pair of data frames as mentioned below. (Hint: this function takes two 1d arrays, which would be patient IDs from two different dataframes. How do we get this from each dataframe? Are patient IDs rows or columns?) \n",
    "2. Use a for loop to print the lengths of these three data frames, and compare them to the number of rows. The for loop skeleton is below. What do you notice about the three lengths? Do the numbers correspond to anything in particular?\n",
    "3. Finally, identify which intersection contains the patient IDs where there is data for all three levels of data (proteomics, transcriptomics, and clinical). How can we tell?"
   ]
  },
  {
   "cell_type": "code",
   "execution_count": 85,
   "id": "6daf99fa",
   "metadata": {},
   "outputs": [
    {
     "name": "stdout",
     "output_type": "stream",
     "text": [
      "The length of Name          A1BG     A2M   A2ML1    AAAS    AACS   AADAT   AAED1   AAGAB  \\\n",
      "Patient_ID                                                                   \n",
      "CPT000814  -0.6712 -0.2075  2.7959  1.3969 -1.0899     NaN  1.6708 -0.3484   \n",
      "CPT001846   1.3964  1.3302 -5.0948  0.7674 -1.6845     NaN  2.1022 -0.5814   \n",
      "X01BR001    2.0219  1.6269 -3.2943  0.3352 -1.0739  1.2255  0.2754 -1.1187   \n",
      "X01BR008   -0.5290  0.3267  1.4342  0.4938 -2.8676     NaN     NaN -1.0691   \n",
      "X01BR009    1.2556  3.4489  2.8043 -0.2956 -1.7261     NaN     NaN -2.0471   \n",
      "...            ...     ...     ...     ...     ...     ...     ...     ...   \n",
      "X21BR001   -0.6610 -0.6402 -4.8578  1.2319 -1.6491     NaN     NaN -0.3074   \n",
      "X21BR002   -1.3735  0.4227 -4.9553  0.6327 -3.1434     NaN     NaN  0.3071   \n",
      "X21BR010    1.1583  0.3329 -5.7358 -0.1658 -2.0413 -1.2433  0.9090 -0.2410   \n",
      "X22BR005    0.4948 -1.0986 -8.8314  0.2826 -1.0123 -2.5732  5.7567  1.7644   \n",
      "X22BR006    0.5049 -0.6582 -7.4699  0.6570 -0.7239     NaN  0.6420  2.2376   \n",
      "\n",
      "Name          AAK1   AAMDC  ...  ZSCAN31  ZSWIM8    ZW10  ZWILCH   ZWINT  \\\n",
      "Patient_ID                  ...                                            \n",
      "CPT000814  -0.4756 -0.7299  ...  -5.2868 -0.6536  0.3384  2.1169  1.3910   \n",
      "CPT001846   0.2916 -2.2857  ...  -0.7592  0.4711  0.6018  0.2062 -0.2137   \n",
      "X01BR001   -0.0534 -0.2519  ...      NaN  0.2306 -0.3010  0.3395 -0.5316   \n",
      "X01BR008   -0.3643 -1.8173  ...  -2.1789  0.2695  0.1506  1.0498  0.7546   \n",
      "X01BR009   -0.3547 -0.8298  ...  -2.3990 -0.2596  0.1898 -0.5010 -0.4189   \n",
      "...            ...     ...  ...      ...     ...     ...     ...     ...   \n",
      "X21BR001   -0.3074 -0.0266  ...  -0.2528  0.5090  0.0306  0.4908 -0.5570   \n",
      "X21BR002    0.7562 -1.6912  ...  -3.3351  0.1548  1.0792 -0.6619 -1.4444   \n",
      "X21BR010    0.6717 -0.1651  ...  -0.7054  0.2752  0.8850 -2.6704 -0.9444   \n",
      "X22BR005    0.5415  0.1531  ...  -0.3936 -0.0340 -0.9367 -0.1922  1.2572   \n",
      "X22BR006   -0.7597  0.1589  ...   0.5526  0.3468  1.0655 -1.2607 -2.2866   \n",
      "\n",
      "Name          ZXDC  ZYG11B     ZYX   ZZEF1    ZZZ3  \n",
      "Patient_ID                                          \n",
      "CPT000814  -2.1230  0.9136 -0.8082 -1.4793  0.9136  \n",
      "CPT001846  -2.1219  0.0860  2.5814 -0.2852 -0.1074  \n",
      "X01BR001       NaN  0.4996  0.7622 -1.5607  0.0256  \n",
      "X01BR008    1.7889 -0.2499 -0.2590 -0.1263  0.3725  \n",
      "X01BR009    0.3080  0.5057  0.2181 -0.2288 -0.2750  \n",
      "...            ...     ...     ...     ...     ...  \n",
      "X21BR001    2.3864  0.3764 -0.6974  1.3541  1.1123  \n",
      "X21BR002   -0.3704  0.4909  0.3938  0.2992 -0.3494  \n",
      "X21BR010   -1.9717  0.0650  0.6300 -0.0686  0.1798  \n",
      "X22BR005    1.3220 -1.0698  0.4012 -0.3792  1.2752  \n",
      "X22BR006    1.0775 -0.1334  2.5269  1.4294  0.4542  \n",
      "\n",
      "[122 rows x 10107 columns] is 122. Number of rows: 122\n",
      "The length of Name          A1BG  A1BG-AS1  A1CF     A2M   A2ML1   A2MP1  A3GALT2  A4GALT  \\\n",
      "Patient_ID                                                                    \n",
      "CPT000814   1.9265    2.4267   NaN  5.3718  3.6437 -4.5301  -5.2608  0.6260   \n",
      "CPT001846   3.6578    2.6524   NaN  5.3253 -5.1069 -0.7692   5.6915  3.2060   \n",
      "X01BR001    0.9896    2.6363   NaN  5.4734 -1.5052 -2.0918      NaN  1.8816   \n",
      "X01BR008    0.5535    2.2119   NaN  5.8701  3.2708 -1.9902  -5.0414  0.6957   \n",
      "X01BR009    2.8359    3.3449   NaN  6.9307  2.6488 -3.1664      NaN  1.9784   \n",
      "...            ...       ...   ...     ...     ...     ...      ...     ...   \n",
      "X21BR001    2.1736    2.1405   NaN  6.1540 -5.0777 -1.2765   5.3046  1.6543   \n",
      "X21BR002       NaN       NaN   NaN  9.0054 -7.1573     NaN      NaN  6.2542   \n",
      "X21BR010   -0.3261    1.0329   NaN  6.9516     NaN -2.5778      NaN -2.3352   \n",
      "X22BR005   -1.2102    0.6457   NaN  6.7257 -1.3602 -1.7237      NaN  2.3115   \n",
      "X22BR006    0.7403    1.6475   NaN  7.3029 -4.1318     NaN      NaN  1.7685   \n",
      "\n",
      "Name         A4GNT    AAAS  ...  ZWILCH   ZWINT    ZXDA    ZXDB    ZXDC  \\\n",
      "Patient_ID                  ...                                           \n",
      "CPT000814      NaN  4.7000  ...  3.2268  5.1482 -0.0202  0.9270  5.1699   \n",
      "CPT001846      NaN  4.3115  ...  3.2532  3.9191 -1.4924 -0.3262  3.2163   \n",
      "X01BR001       NaN  3.3434  ...  1.9491  2.2365  0.1694  1.3074  2.8806   \n",
      "X01BR008       NaN  4.3095  ...  3.1575  5.7822 -1.3608  0.3015  3.2620   \n",
      "X01BR009   -5.7975  4.6341  ...  2.7678  3.5378 -0.5147  0.2798  3.0986   \n",
      "...            ...     ...  ...     ...     ...     ...     ...     ...   \n",
      "X21BR001   -5.9063  5.1404  ...  2.1051  4.7150 -0.7072  0.2520  4.9094   \n",
      "X21BR002       NaN  5.1665  ...  2.1742  4.1401 -1.2578  0.2582  5.1380   \n",
      "X21BR010       NaN  3.4699  ...  2.4175  2.0950  1.2070  2.3922  3.2352   \n",
      "X22BR005       NaN  4.3077  ...  2.7801  5.3049  0.5553  1.8906  2.4904   \n",
      "X22BR006       NaN  4.7615  ...  2.2901  2.9895  1.1904  2.1558  2.6225   \n",
      "\n",
      "Name        ZYG11A  ZYG11B     ZYX   ZZEF1    ZZZ3  \n",
      "Patient_ID                                          \n",
      "CPT000814   3.1333  0.9835  5.9499  2.8499  3.6497  \n",
      "CPT001846      NaN  2.0909  7.0671  2.0780  3.2274  \n",
      "X01BR001    0.5653  1.5682  4.3852  2.1573  2.1127  \n",
      "X01BR008    1.7578  0.2989  5.4697  3.1783  3.1939  \n",
      "X01BR009   -3.2737  1.3036  5.0219  3.6868  2.8524  \n",
      "...            ...     ...     ...     ...     ...  \n",
      "X21BR001       NaN  1.2552  5.5590  4.2292  2.2011  \n",
      "X21BR002       NaN  1.5275  6.1792  3.8373  2.3024  \n",
      "X21BR010   -3.0783  2.7830  3.9970  1.5065  4.2235  \n",
      "X22BR005    0.7488  1.6893  4.1113  1.7474  4.3724  \n",
      "X22BR006    0.2093  3.0970  6.3228  3.2528  3.2528  \n",
      "\n",
      "[122 rows x 23121 columns] is 79. Number of rows: 122\n",
      "The length of Name       Replicate_Measurement_IDs Sample_Tumor_Normal TMT.Plex TMT.Channel  \\\n",
      "Patient_ID                                                                      \n",
      "X01BR001                    X01BR001               Tumor        2        129N   \n",
      "X01BR018                    X01BR018               Tumor        7        129N   \n",
      "X01BR025                    X01BR025               Tumor        9        127N   \n",
      "X01BR027                    X01BR027               Tumor        3        127N   \n",
      "X01BR030                    X01BR030               Tumor        7        128C   \n",
      "...                              ...                 ...      ...         ...   \n",
      "X20BR006                    X20BR006               Tumor       17        128N   \n",
      "X20BR007                    X20BR007               Tumor        5        130N   \n",
      "X20BR008                    X20BR008               Tumor        5        127C   \n",
      "X21BR010      X21BR010|X21BR010.REP1               Tumor     3|17   129C|128C   \n",
      "X22BR006                    X22BR006               Tumor       10        130N   \n",
      "\n",
      "Name             Stage  Ischemia.Time.in.Minutes  PAM50 NMF.Cluster  \\\n",
      "Patient_ID                                                            \n",
      "X01BR001     Stage IIB                       0.0  Basal     Basal-I   \n",
      "X01BR018    Stage IIIA                       1.0  Basal     Basal-I   \n",
      "X01BR025    Stage IIIA                       6.0   LumA      LumB-I   \n",
      "X01BR027     Stage IIA                       8.0  Basal     Basal-I   \n",
      "X01BR030    Stage IIIA                       4.0   LumA      LumA-I   \n",
      "...                ...                       ...    ...         ...   \n",
      "X20BR006     Stage IIB                      18.0  Basal     Basal-I   \n",
      "X20BR007     Stage IIA                      16.0  Basal     Basal-I   \n",
      "X20BR008    Stage IIIB                      11.0   Her2      HER2-I   \n",
      "X21BR010     Stage IIA                      18.0   LumA      LumA-I   \n",
      "X22BR006    Stage IIIA                      25.0   LumA      LumB-I   \n",
      "\n",
      "Name        NMF.Cluster.Membership.Score  Age.in.Month  Gender  \\\n",
      "Patient_ID                                                       \n",
      "X01BR001                           0.782         660.0  female   \n",
      "X01BR018                           0.915         792.0  female   \n",
      "X01BR025                           0.551         744.0  female   \n",
      "X01BR027                           1.000         960.0  female   \n",
      "X01BR030                           0.409        1010.0  female   \n",
      "...                                  ...           ...     ...   \n",
      "X20BR006                           0.728         786.0  female   \n",
      "X20BR007                           0.609         660.0  female   \n",
      "X20BR008                           0.481         863.0  female   \n",
      "X21BR010                           0.559         852.0  female   \n",
      "X22BR006                           0.402         660.0  female   \n",
      "\n",
      "Name                        Ethnicity ER.Updated.Clinical.Status  \\\n",
      "Patient_ID                                                         \n",
      "X01BR001    black.or.african.american                   negative   \n",
      "X01BR018                        white                   positive   \n",
      "X01BR025    black.or.african.american                   positive   \n",
      "X01BR027    black.or.african.american                   negative   \n",
      "X01BR030    black.or.african.american                   positive   \n",
      "...                               ...                        ...   \n",
      "X20BR006                        white                   positive   \n",
      "X20BR007    black.or.african.american                   negative   \n",
      "X20BR008    black.or.african.american                   negative   \n",
      "X21BR010                        white                   positive   \n",
      "X22BR006    black.or.african.american                   positive   \n",
      "\n",
      "Name       PR.Clinical.Status ERBB2.Updated.Clinical.Status  \\\n",
      "Patient_ID                                                    \n",
      "X01BR001             negative                      negative   \n",
      "X01BR018             negative                      negative   \n",
      "X01BR025             positive                     equivocal   \n",
      "X01BR027             negative                      negative   \n",
      "X01BR030             positive                      negative   \n",
      "...                       ...                           ...   \n",
      "X20BR006             negative                      negative   \n",
      "X20BR007             negative                      negative   \n",
      "X20BR008             negative                      negative   \n",
      "X21BR010             positive                      negative   \n",
      "X22BR006             positive                      negative   \n",
      "\n",
      "Name       TNBC.Updated.Clinical.Status ERBB2.Proteogenomic.Status  \\\n",
      "Patient_ID                                                           \n",
      "X01BR001                       positive                   negative   \n",
      "X01BR018                       negative                   negative   \n",
      "X01BR025                       negative                   negative   \n",
      "X01BR027                       positive                   negative   \n",
      "X01BR030                       negative                   negative   \n",
      "...                                 ...                        ...   \n",
      "X20BR006                       negative                   negative   \n",
      "X20BR007                       positive                   negative   \n",
      "X20BR008                       positive                   negative   \n",
      "X21BR010                       negative                   negative   \n",
      "X22BR006                       negative                   negative   \n",
      "\n",
      "Name       TOP2A.Proteogenomic.Status        Age  \n",
      "Patient_ID                                        \n",
      "X01BR001                     negative  55.000000  \n",
      "X01BR018                     negative  66.000000  \n",
      "X01BR025                     negative  62.000000  \n",
      "X01BR027                     negative  80.000000  \n",
      "X01BR030                     negative  84.166667  \n",
      "...                               ...        ...  \n",
      "X20BR006                     negative  65.500000  \n",
      "X20BR007                     negative  55.000000  \n",
      "X20BR008                     negative  71.916667  \n",
      "X21BR010                     negative  71.000000  \n",
      "X22BR006                     negative  55.000000  \n",
      "\n",
      "[79 rows x 19 columns] is 79. Number of rows: 79\n",
      "Intersection 1 contains data for all three levels.\n",
      "Intersection 2 contains data for all three levels.\n"
     ]
    }
   ],
   "source": [
    "protein_ids = protein_data.index\n",
    "rna_ids = rna_data.index\n",
    "masked_clinical_ids = masked_clinical.index\n",
    "\n",
    "name_intersects = [\n",
    "    np.intersect1d(protein_ids, rna_ids),\n",
    "    np.intersect1d(protein_ids, masked_clinical_ids),\n",
    "    np.intersect1d(rna_ids, masked_clinical_ids)\n",
    "]\n",
    "\n",
    "data_frames = [protein_data, rna_data, masked_clinical]\n",
    "for i, intersection in enumerate(name_intersects):\n",
    "    length = len(intersection)\n",
    "    df_name = data_frames[i]\n",
    "    num_rows = df_name.shape[0]\n",
    "    print(f\"The length of {df_name} is {length}. Number of rows: {num_rows}\")\n",
    "\n",
    "for i, intersection in enumerate(name_intersects):\n",
    "    if len(intersection) == num_rows:\n",
    "        print(f\"Intersection {i} contains data for all three levels.\")\n",
    "\n",
    "    \n",
    "# 3. Which comparison(s) contain the patient names that have all three levels?\n",
    "#Protein and RNA data, and rna and masked clinical data"
   ]
  },
  {
   "cell_type": "markdown",
   "id": "f34fa008",
   "metadata": {},
   "source": [
    "## (4) Examining the Clinical Data"
   ]
  },
  {
   "cell_type": "markdown",
   "id": "1c16ae96",
   "metadata": {},
   "source": [
    "Let's explore the clinical data in more detail.\n",
    "\n",
    "First, use head() to glance as to what data is available."
   ]
  },
  {
   "cell_type": "code",
   "execution_count": 75,
   "id": "60fe1771",
   "metadata": {},
   "outputs": [
    {
     "data": {
      "text/html": [
       "<div>\n",
       "<style scoped>\n",
       "    .dataframe tbody tr th:only-of-type {\n",
       "        vertical-align: middle;\n",
       "    }\n",
       "\n",
       "    .dataframe tbody tr th {\n",
       "        vertical-align: top;\n",
       "    }\n",
       "\n",
       "    .dataframe thead th {\n",
       "        text-align: right;\n",
       "    }\n",
       "</style>\n",
       "<table border=\"1\" class=\"dataframe\">\n",
       "  <thead>\n",
       "    <tr style=\"text-align: right;\">\n",
       "      <th>Name</th>\n",
       "      <th>Replicate_Measurement_IDs</th>\n",
       "      <th>Sample_Tumor_Normal</th>\n",
       "      <th>TMT.Plex</th>\n",
       "      <th>TMT.Channel</th>\n",
       "      <th>Stage</th>\n",
       "      <th>Ischemia.Time.in.Minutes</th>\n",
       "      <th>PAM50</th>\n",
       "      <th>NMF.Cluster</th>\n",
       "      <th>NMF.Cluster.Membership.Score</th>\n",
       "      <th>Age.in.Month</th>\n",
       "      <th>Gender</th>\n",
       "      <th>Ethnicity</th>\n",
       "      <th>ER.Updated.Clinical.Status</th>\n",
       "      <th>PR.Clinical.Status</th>\n",
       "      <th>ERBB2.Updated.Clinical.Status</th>\n",
       "      <th>TNBC.Updated.Clinical.Status</th>\n",
       "      <th>ERBB2.Proteogenomic.Status</th>\n",
       "      <th>TOP2A.Proteogenomic.Status</th>\n",
       "    </tr>\n",
       "    <tr>\n",
       "      <th>Patient_ID</th>\n",
       "      <th></th>\n",
       "      <th></th>\n",
       "      <th></th>\n",
       "      <th></th>\n",
       "      <th></th>\n",
       "      <th></th>\n",
       "      <th></th>\n",
       "      <th></th>\n",
       "      <th></th>\n",
       "      <th></th>\n",
       "      <th></th>\n",
       "      <th></th>\n",
       "      <th></th>\n",
       "      <th></th>\n",
       "      <th></th>\n",
       "      <th></th>\n",
       "      <th></th>\n",
       "      <th></th>\n",
       "    </tr>\n",
       "  </thead>\n",
       "  <tbody>\n",
       "    <tr>\n",
       "      <th>CPT000814</th>\n",
       "      <td>CPT000814</td>\n",
       "      <td>Tumor</td>\n",
       "      <td>13</td>\n",
       "      <td>127C</td>\n",
       "      <td>Stage IIA</td>\n",
       "      <td>NaN</td>\n",
       "      <td>Basal</td>\n",
       "      <td>Basal-I</td>\n",
       "      <td>1.000</td>\n",
       "      <td>NaN</td>\n",
       "      <td>NaN</td>\n",
       "      <td>black.or.african.american</td>\n",
       "      <td>negative</td>\n",
       "      <td>negative</td>\n",
       "      <td>NaN</td>\n",
       "      <td>positive</td>\n",
       "      <td>negative</td>\n",
       "      <td>negative</td>\n",
       "    </tr>\n",
       "    <tr>\n",
       "      <th>CPT001846</th>\n",
       "      <td>CPT001846</td>\n",
       "      <td>Tumor</td>\n",
       "      <td>12</td>\n",
       "      <td>128C</td>\n",
       "      <td>Stage III</td>\n",
       "      <td>NaN</td>\n",
       "      <td>Basal</td>\n",
       "      <td>Basal-I</td>\n",
       "      <td>0.672</td>\n",
       "      <td>NaN</td>\n",
       "      <td>NaN</td>\n",
       "      <td>white</td>\n",
       "      <td>negative</td>\n",
       "      <td>negative</td>\n",
       "      <td>NaN</td>\n",
       "      <td>positive</td>\n",
       "      <td>negative</td>\n",
       "      <td>negative</td>\n",
       "    </tr>\n",
       "    <tr>\n",
       "      <th>X01BR001</th>\n",
       "      <td>X01BR001</td>\n",
       "      <td>Tumor</td>\n",
       "      <td>2</td>\n",
       "      <td>129N</td>\n",
       "      <td>Stage IIB</td>\n",
       "      <td>0.0</td>\n",
       "      <td>Basal</td>\n",
       "      <td>Basal-I</td>\n",
       "      <td>0.782</td>\n",
       "      <td>660.0</td>\n",
       "      <td>female</td>\n",
       "      <td>black.or.african.american</td>\n",
       "      <td>negative</td>\n",
       "      <td>negative</td>\n",
       "      <td>negative</td>\n",
       "      <td>positive</td>\n",
       "      <td>negative</td>\n",
       "      <td>negative</td>\n",
       "    </tr>\n",
       "    <tr>\n",
       "      <th>X01BR008</th>\n",
       "      <td>X01BR008</td>\n",
       "      <td>Tumor</td>\n",
       "      <td>16</td>\n",
       "      <td>127C</td>\n",
       "      <td>NaN</td>\n",
       "      <td>NaN</td>\n",
       "      <td>Basal</td>\n",
       "      <td>Basal-I</td>\n",
       "      <td>0.958</td>\n",
       "      <td>NaN</td>\n",
       "      <td>NaN</td>\n",
       "      <td>NaN</td>\n",
       "      <td>NaN</td>\n",
       "      <td>NaN</td>\n",
       "      <td>NaN</td>\n",
       "      <td>NaN</td>\n",
       "      <td>negative</td>\n",
       "      <td>negative</td>\n",
       "    </tr>\n",
       "    <tr>\n",
       "      <th>X01BR009</th>\n",
       "      <td>X01BR009</td>\n",
       "      <td>Tumor</td>\n",
       "      <td>16</td>\n",
       "      <td>127N</td>\n",
       "      <td>NaN</td>\n",
       "      <td>NaN</td>\n",
       "      <td>Basal</td>\n",
       "      <td>Basal-I</td>\n",
       "      <td>0.825</td>\n",
       "      <td>NaN</td>\n",
       "      <td>NaN</td>\n",
       "      <td>NaN</td>\n",
       "      <td>negative</td>\n",
       "      <td>negative</td>\n",
       "      <td>NaN</td>\n",
       "      <td>positive</td>\n",
       "      <td>negative</td>\n",
       "      <td>negative</td>\n",
       "    </tr>\n",
       "  </tbody>\n",
       "</table>\n",
       "</div>"
      ],
      "text/plain": [
       "Name       Replicate_Measurement_IDs Sample_Tumor_Normal TMT.Plex TMT.Channel  \\\n",
       "Patient_ID                                                                      \n",
       "CPT000814                  CPT000814               Tumor       13        127C   \n",
       "CPT001846                  CPT001846               Tumor       12        128C   \n",
       "X01BR001                    X01BR001               Tumor        2        129N   \n",
       "X01BR008                    X01BR008               Tumor       16        127C   \n",
       "X01BR009                    X01BR009               Tumor       16        127N   \n",
       "\n",
       "Name            Stage  Ischemia.Time.in.Minutes  PAM50 NMF.Cluster  \\\n",
       "Patient_ID                                                           \n",
       "CPT000814   Stage IIA                       NaN  Basal     Basal-I   \n",
       "CPT001846   Stage III                       NaN  Basal     Basal-I   \n",
       "X01BR001    Stage IIB                       0.0  Basal     Basal-I   \n",
       "X01BR008          NaN                       NaN  Basal     Basal-I   \n",
       "X01BR009          NaN                       NaN  Basal     Basal-I   \n",
       "\n",
       "Name        NMF.Cluster.Membership.Score  Age.in.Month  Gender  \\\n",
       "Patient_ID                                                       \n",
       "CPT000814                          1.000           NaN     NaN   \n",
       "CPT001846                          0.672           NaN     NaN   \n",
       "X01BR001                           0.782         660.0  female   \n",
       "X01BR008                           0.958           NaN     NaN   \n",
       "X01BR009                           0.825           NaN     NaN   \n",
       "\n",
       "Name                        Ethnicity ER.Updated.Clinical.Status  \\\n",
       "Patient_ID                                                         \n",
       "CPT000814   black.or.african.american                   negative   \n",
       "CPT001846                       white                   negative   \n",
       "X01BR001    black.or.african.american                   negative   \n",
       "X01BR008                          NaN                        NaN   \n",
       "X01BR009                          NaN                   negative   \n",
       "\n",
       "Name       PR.Clinical.Status ERBB2.Updated.Clinical.Status  \\\n",
       "Patient_ID                                                    \n",
       "CPT000814            negative                           NaN   \n",
       "CPT001846            negative                           NaN   \n",
       "X01BR001             negative                      negative   \n",
       "X01BR008                  NaN                           NaN   \n",
       "X01BR009             negative                           NaN   \n",
       "\n",
       "Name       TNBC.Updated.Clinical.Status ERBB2.Proteogenomic.Status  \\\n",
       "Patient_ID                                                           \n",
       "CPT000814                      positive                   negative   \n",
       "CPT001846                      positive                   negative   \n",
       "X01BR001                       positive                   negative   \n",
       "X01BR008                            NaN                   negative   \n",
       "X01BR009                       positive                   negative   \n",
       "\n",
       "Name       TOP2A.Proteogenomic.Status  \n",
       "Patient_ID                             \n",
       "CPT000814                    negative  \n",
       "CPT001846                    negative  \n",
       "X01BR001                     negative  \n",
       "X01BR008                     negative  \n",
       "X01BR009                     negative  "
      ]
     },
     "execution_count": 75,
     "metadata": {},
     "output_type": "execute_result"
    }
   ],
   "source": [
    "clinical_data.head()"
   ]
  },
  {
   "cell_type": "markdown",
   "id": "77030e93",
   "metadata": {},
   "source": [
    "**Exercise 4.1** You might notice that the Age column values don't look like years -- they're in months. Create a new column called \"Age\" with the \"Age.in.Month\" values / 12. Then, use head() again to make sure the ages were converted."
   ]
  },
  {
   "cell_type": "code",
   "execution_count": 76,
   "id": "e2b7a6d2",
   "metadata": {},
   "outputs": [
    {
     "name": "stdout",
     "output_type": "stream",
     "text": [
      "Name        Age.in.Month   Age\n",
      "Patient_ID                    \n",
      "CPT000814            NaN   NaN\n",
      "CPT001846            NaN   NaN\n",
      "X01BR001           660.0  55.0\n",
      "X01BR008             NaN   NaN\n",
      "X01BR009             NaN   NaN\n"
     ]
    }
   ],
   "source": [
    "clinical_data['Age'] = clinical_data['Age.in.Month'] / 12\n",
    "print(clinical_data[['Age.in.Month', 'Age']].head())"
   ]
  },
  {
   "cell_type": "markdown",
   "id": "a7e704a4",
   "metadata": {},
   "source": [
    "There are actually control (non-cancer) tissue samples in some datasets. Let's determine whether we need to account for this in our dataset this using the unique() function from numpy.\n",
    "\n",
    "__Exercise 4.2__ Call the unique() function on the Sample_Tumor_Normal column. The function will return the unique values in the column in a sorted order -- this is super useful for examining categorical variables, like tumor stage and tumor status, for example."
   ]
  },
  {
   "cell_type": "code",
   "execution_count": 86,
   "id": "5b56fa09",
   "metadata": {},
   "outputs": [
    {
     "name": "stdout",
     "output_type": "stream",
     "text": [
      "Unique Sample Types: ['Tumor']\n"
     ]
    }
   ],
   "source": [
    "unique_sample_types = sorted(clinical_data['Sample_Tumor_Normal'].unique())\n",
    "\n",
    "print(\"Unique Sample Types:\", unique_sample_types)"
   ]
  },
  {
   "cell_type": "markdown",
   "id": "5b1338d1",
   "metadata": {},
   "source": [
    "__Exercise 4.3__ Let's examine how tumor stage varies as a function of age:\n",
    "\n",
    "   1. Import the plotting libraries matplotlib.pyplot and seaborn (use the standard abbreviations presented last time, seaborn is sns).\n",
    "   2. Create an age_category column in clinical_data. Define \"Young\" as under the median age, and \"Old\" as the median age and older. (Hint: use the where() function from numpy, the equivalent to ifelse()).\n",
    "   3. The \"Stage\" information for soome of these patients is NaN (the pandas version of NA). Use the isna() function from pandas and boolean indexing (i.e. where() from numpy again) to remove any patients with NaN values in \"Stage\".\n",
    "   4. Using nested for loop and boolean indexing, count the number of old and young patients that have Stage I, Stage II, Stage III, and Stage IV cancer.\n",
    "   5. Use the skeleton code to draw the barplot. Do your numbers make sense?"
   ]
  },
  {
   "cell_type": "code",
   "execution_count": 92,
   "id": "3d9b0202",
   "metadata": {},
   "outputs": [
    {
     "name": "stdout",
     "output_type": "stream",
     "text": [
      "Old\n",
      "Number of Old patients with Stage Stage IA: 2\n",
      "Number of Old patients with Stage Stage IIA: 26\n",
      "Number of Old patients with Stage Stage IIB: 7\n",
      "Number of Old patients with Stage Stage III: 2\n",
      "Number of Old patients with Stage Stage IIIA: 14\n",
      "Number of Old patients with Stage Stage IIIB: 2\n",
      "Number of Old patients with Stage Stage IIIC: 2\n",
      "Young\n",
      "Number of Young patients with Stage Stage IA: 2\n",
      "Number of Young patients with Stage Stage IIA: 24\n",
      "Number of Young patients with Stage Stage IIB: 13\n",
      "Number of Young patients with Stage Stage III: 2\n",
      "Number of Young patients with Stage Stage IIIA: 8\n",
      "Number of Young patients with Stage Stage IIIB: 1\n",
      "Number of Young patients with Stage Stage IIIC: 2\n"
     ]
    },
    {
     "name": "stderr",
     "output_type": "stream",
     "text": [
      "/Users/hunter/anaconda3/lib/python3.11/site-packages/seaborn/_oldcore.py:1498: FutureWarning: is_categorical_dtype is deprecated and will be removed in a future version. Use isinstance(dtype, CategoricalDtype) instead\n",
      "  if pd.api.types.is_categorical_dtype(vector):\n",
      "/Users/hunter/anaconda3/lib/python3.11/site-packages/seaborn/_oldcore.py:1498: FutureWarning: is_categorical_dtype is deprecated and will be removed in a future version. Use isinstance(dtype, CategoricalDtype) instead\n",
      "  if pd.api.types.is_categorical_dtype(vector):\n",
      "/Users/hunter/anaconda3/lib/python3.11/site-packages/seaborn/_oldcore.py:1498: FutureWarning: is_categorical_dtype is deprecated and will be removed in a future version. Use isinstance(dtype, CategoricalDtype) instead\n",
      "  if pd.api.types.is_categorical_dtype(vector):\n"
     ]
    },
    {
     "data": {
      "image/png": "[encoded data removed]",
      "text/plain": [
       "<Figure size 640x480 with 1 Axes>"
      ]
     },
     "metadata": {},
     "output_type": "display_data"
    }
   ],
   "source": [
    "import matplotlib.pyplot as plt\n",
    "import seaborn as sns\n",
    "import numpy as np\n",
    "\n",
    "median_age = clinical_data['Age'].median()\n",
    "clinical_data['age_category'] = np.where(clinical_data['Age'] <= median_age, 'Young', 'Old')\n",
    "\n",
    "clinical_data = clinical_data[~clinical_data['Stage'].isna()]\n",
    "\n",
    "stage_categories = np.unique(clinical_data.loc[:, 'Stage'])\n",
    "\n",
    "for age_cat in [\"Old\", \"Young\"]:\n",
    "    print(age_cat)\n",
    "    for stage in stage_categories:\n",
    "        # 1. Create a subset of the data frame with the old/young patients\n",
    "        subset = clinical_data[clinical_data['age_category'] == age_cat]\n",
    "        # 2. Count the number of patients with the stage of cancer and print\n",
    "        count = len(subset[subset['Stage'] == stage])\n",
    "        print(f\"Number of {age_cat} patients with Stage {stage}: {count}\")\n",
    "\n",
    "\n",
    "sns.countplot(\n",
    "    x=\"age_category\",\n",
    "    hue=\"Stage\",\n",
    "    hue_order=stage_categories,\n",
    "    data=clinical_data\n",
    ")\n",
    "\n",
    "plt.show()\n"
   ]
  },
  {
   "cell_type": "markdown",
   "id": "c5b41b9e",
   "metadata": {},
   "source": [
    "## (5) Plotting Proteomic Data"
   ]
  },
  {
   "cell_type": "markdown",
   "id": "456a052b",
   "metadata": {},
   "source": [
    "Let's explore how the proteomic expression of a gene differs between young and old patients.\n",
    "\n",
    "**Exercise 5.1** Plot the expression data of a chosen protein stratified between patients older and younger than the median age."
   ]
  },
  {
   "cell_type": "code",
   "execution_count": 94,
   "id": "73359e8c",
   "metadata": {},
   "outputs": [
    {
     "ename": "IndexingError",
     "evalue": "Unalignable boolean Series provided as indexer (index of the boolean Series and of the indexed object do not match).",
     "output_type": "error",
     "traceback": [
      "\u001b[0;31m---------------------------------------------------------------------------\u001b[0m",
      "\u001b[0;31mIndexingError\u001b[0m                             Traceback (most recent call last)",
      "Cell \u001b[0;32mIn[94], line 4\u001b[0m\n\u001b[1;32m      1\u001b[0m young_mask \u001b[38;5;241m=\u001b[39m clinical_data[\u001b[38;5;124m'\u001b[39m\u001b[38;5;124mAge\u001b[39m\u001b[38;5;124m'\u001b[39m] \u001b[38;5;241m<\u001b[39m median_age \u001b[38;5;66;03m# the age column is 'Age.in.Month', which (as stated) is in months\u001b[39;00m\n\u001b[1;32m      2\u001b[0m old_mask \u001b[38;5;241m=\u001b[39m clinical_data[\u001b[38;5;124m'\u001b[39m\u001b[38;5;124mAge\u001b[39m\u001b[38;5;124m'\u001b[39m] \u001b[38;5;241m>\u001b[39m\u001b[38;5;241m=\u001b[39m median_age\n\u001b[0;32m----> 4\u001b[0m young \u001b[38;5;241m=\u001b[39m protein_data\u001b[38;5;241m.\u001b[39mloc[young_mask]\n\u001b[1;32m      5\u001b[0m old \u001b[38;5;241m=\u001b[39m protein_data\u001b[38;5;241m.\u001b[39mloc[old_mask]\n\u001b[1;32m      7\u001b[0m data \u001b[38;5;241m=\u001b[39m [old\u001b[38;5;241m.\u001b[39mvalues, young\u001b[38;5;241m.\u001b[39mvalues] \u001b[38;5;66;03m# our boxplot function will require an array (or an array of arrays)\u001b[39;00m\n",
      "File \u001b[0;32m~/anaconda3/lib/python3.11/site-packages/pandas/core/indexing.py:1153\u001b[0m, in \u001b[0;36m_LocationIndexer.__getitem__\u001b[0;34m(self, key)\u001b[0m\n\u001b[1;32m   1150\u001b[0m axis \u001b[38;5;241m=\u001b[39m \u001b[38;5;28mself\u001b[39m\u001b[38;5;241m.\u001b[39maxis \u001b[38;5;129;01mor\u001b[39;00m \u001b[38;5;241m0\u001b[39m\n\u001b[1;32m   1152\u001b[0m maybe_callable \u001b[38;5;241m=\u001b[39m com\u001b[38;5;241m.\u001b[39mapply_if_callable(key, \u001b[38;5;28mself\u001b[39m\u001b[38;5;241m.\u001b[39mobj)\n\u001b[0;32m-> 1153\u001b[0m \u001b[38;5;28;01mreturn\u001b[39;00m \u001b[38;5;28mself\u001b[39m\u001b[38;5;241m.\u001b[39m_getitem_axis(maybe_callable, axis\u001b[38;5;241m=\u001b[39maxis)\n",
      "File \u001b[0;32m~/anaconda3/lib/python3.11/site-packages/pandas/core/indexing.py:1375\u001b[0m, in \u001b[0;36m_LocIndexer._getitem_axis\u001b[0;34m(self, key, axis)\u001b[0m\n\u001b[1;32m   1373\u001b[0m     \u001b[38;5;28;01mreturn\u001b[39;00m \u001b[38;5;28mself\u001b[39m\u001b[38;5;241m.\u001b[39m_get_slice_axis(key, axis\u001b[38;5;241m=\u001b[39maxis)\n\u001b[1;32m   1374\u001b[0m \u001b[38;5;28;01melif\u001b[39;00m com\u001b[38;5;241m.\u001b[39mis_bool_indexer(key):\n\u001b[0;32m-> 1375\u001b[0m     \u001b[38;5;28;01mreturn\u001b[39;00m \u001b[38;5;28mself\u001b[39m\u001b[38;5;241m.\u001b[39m_getbool_axis(key, axis\u001b[38;5;241m=\u001b[39maxis)\n\u001b[1;32m   1376\u001b[0m \u001b[38;5;28;01melif\u001b[39;00m is_list_like_indexer(key):\n\u001b[1;32m   1377\u001b[0m     \u001b[38;5;66;03m# an iterable multi-selection\u001b[39;00m\n\u001b[1;32m   1378\u001b[0m     \u001b[38;5;28;01mif\u001b[39;00m \u001b[38;5;129;01mnot\u001b[39;00m (\u001b[38;5;28misinstance\u001b[39m(key, \u001b[38;5;28mtuple\u001b[39m) \u001b[38;5;129;01mand\u001b[39;00m \u001b[38;5;28misinstance\u001b[39m(labels, MultiIndex)):\n",
      "File \u001b[0;32m~/anaconda3/lib/python3.11/site-packages/pandas/core/indexing.py:1171\u001b[0m, in \u001b[0;36m_LocationIndexer._getbool_axis\u001b[0;34m(self, key, axis)\u001b[0m\n\u001b[1;32m   1167\u001b[0m \u001b[38;5;129m@final\u001b[39m\n\u001b[1;32m   1168\u001b[0m \u001b[38;5;28;01mdef\u001b[39;00m \u001b[38;5;21m_getbool_axis\u001b[39m(\u001b[38;5;28mself\u001b[39m, key, axis: AxisInt):\n\u001b[1;32m   1169\u001b[0m     \u001b[38;5;66;03m# caller is responsible for ensuring non-None axis\u001b[39;00m\n\u001b[1;32m   1170\u001b[0m     labels \u001b[38;5;241m=\u001b[39m \u001b[38;5;28mself\u001b[39m\u001b[38;5;241m.\u001b[39mobj\u001b[38;5;241m.\u001b[39m_get_axis(axis)\n\u001b[0;32m-> 1171\u001b[0m     key \u001b[38;5;241m=\u001b[39m check_bool_indexer(labels, key)\n\u001b[1;32m   1172\u001b[0m     inds \u001b[38;5;241m=\u001b[39m key\u001b[38;5;241m.\u001b[39mnonzero()[\u001b[38;5;241m0\u001b[39m]\n\u001b[1;32m   1173\u001b[0m     \u001b[38;5;28;01mreturn\u001b[39;00m \u001b[38;5;28mself\u001b[39m\u001b[38;5;241m.\u001b[39mobj\u001b[38;5;241m.\u001b[39m_take_with_is_copy(inds, axis\u001b[38;5;241m=\u001b[39maxis)\n",
      "File \u001b[0;32m~/anaconda3/lib/python3.11/site-packages/pandas/core/indexing.py:2575\u001b[0m, in \u001b[0;36mcheck_bool_indexer\u001b[0;34m(index, key)\u001b[0m\n\u001b[1;32m   2573\u001b[0m indexer \u001b[38;5;241m=\u001b[39m result\u001b[38;5;241m.\u001b[39mindex\u001b[38;5;241m.\u001b[39mget_indexer_for(index)\n\u001b[1;32m   2574\u001b[0m \u001b[38;5;28;01mif\u001b[39;00m \u001b[38;5;241m-\u001b[39m\u001b[38;5;241m1\u001b[39m \u001b[38;5;129;01min\u001b[39;00m indexer:\n\u001b[0;32m-> 2575\u001b[0m     \u001b[38;5;28;01mraise\u001b[39;00m IndexingError(\n\u001b[1;32m   2576\u001b[0m         \u001b[38;5;124m\"\u001b[39m\u001b[38;5;124mUnalignable boolean Series provided as \u001b[39m\u001b[38;5;124m\"\u001b[39m\n\u001b[1;32m   2577\u001b[0m         \u001b[38;5;124m\"\u001b[39m\u001b[38;5;124mindexer (index of the boolean Series and of \u001b[39m\u001b[38;5;124m\"\u001b[39m\n\u001b[1;32m   2578\u001b[0m         \u001b[38;5;124m\"\u001b[39m\u001b[38;5;124mthe indexed object do not match).\u001b[39m\u001b[38;5;124m\"\u001b[39m\n\u001b[1;32m   2579\u001b[0m     )\n\u001b[1;32m   2581\u001b[0m result \u001b[38;5;241m=\u001b[39m result\u001b[38;5;241m.\u001b[39mtake(indexer)\n\u001b[1;32m   2583\u001b[0m \u001b[38;5;66;03m# fall through for boolean\u001b[39;00m\n",
      "\u001b[0;31mIndexingError\u001b[0m: Unalignable boolean Series provided as indexer (index of the boolean Series and of the indexed object do not match)."
     ]
    }
   ],
   "source": [
    "young_mask = clinical_data['Age'] < median_age # the age column is 'Age.in.Month', which (as stated) is in months\n",
    "old_mask = clinical_data['Age'] >= median_age\n",
    "\n",
    "young = protein_data.loc[young_mask]\n",
    "old = protein_data.loc[old_mask]\n",
    "\n",
    "data = [old.values, young.values] # our boxplot function will require an array (or an array of arrays)\n",
    "data"
   ]
  },
  {
   "cell_type": "code",
   "execution_count": 95,
   "id": "01ad52bc",
   "metadata": {},
   "outputs": [
    {
     "ename": "NameError",
     "evalue": "name 'data' is not defined",
     "output_type": "error",
     "traceback": [
      "\u001b[0;31m---------------------------------------------------------------------------\u001b[0m",
      "\u001b[0;31mNameError\u001b[0m                                 Traceback (most recent call last)",
      "Cell \u001b[0;32mIn[95], line 8\u001b[0m\n\u001b[1;32m      4\u001b[0m plt\u001b[38;5;241m.\u001b[39maxhline(y \u001b[38;5;241m=\u001b[39m \u001b[38;5;241m-\u001b[39m\u001b[38;5;241m1\u001b[39m, color \u001b[38;5;241m=\u001b[39m \u001b[38;5;124m'\u001b[39m\u001b[38;5;124mblue\u001b[39m\u001b[38;5;124m'\u001b[39m, linestyle \u001b[38;5;241m=\u001b[39m \u001b[38;5;124m'\u001b[39m\u001b[38;5;124m:\u001b[39m\u001b[38;5;124m'\u001b[39m)\n\u001b[1;32m      5\u001b[0m plt\u001b[38;5;241m.\u001b[39maxhline(y \u001b[38;5;241m=\u001b[39m \u001b[38;5;241m1\u001b[39m, color \u001b[38;5;241m=\u001b[39m \u001b[38;5;124m'\u001b[39m\u001b[38;5;124mblue\u001b[39m\u001b[38;5;124m'\u001b[39m, linestyle \u001b[38;5;241m=\u001b[39m \u001b[38;5;124m'\u001b[39m\u001b[38;5;124m:\u001b[39m\u001b[38;5;124m'\u001b[39m)\n\u001b[0;32m----> 8\u001b[0m bp \u001b[38;5;241m=\u001b[39m ax\u001b[38;5;241m.\u001b[39mboxplot(data) \u001b[38;5;66;03m# data goes here\u001b[39;00m\n\u001b[1;32m      9\u001b[0m plt\u001b[38;5;241m.\u001b[39mxticks([\u001b[38;5;241m1\u001b[39m, \u001b[38;5;241m2\u001b[39m], [\u001b[38;5;124m\"\u001b[39m\u001b[38;5;124mOld\u001b[39m\u001b[38;5;124m\"\u001b[39m, \u001b[38;5;124m\"\u001b[39m\u001b[38;5;124mYoung\u001b[39m\u001b[38;5;124m\"\u001b[39m]) \u001b[38;5;66;03m# use \\n for new line if desired\u001b[39;00m\n\u001b[1;32m     12\u001b[0m plt\u001b[38;5;241m.\u001b[39mshow()\n",
      "\u001b[0;31mNameError\u001b[0m: name 'data' is not defined"
     ]
    },
    {
     "data": {
      "image/png": "[encoded data removed]",
      "text/plain": [
       "<Figure size 640x480 with 1 Axes>"
      ]
     },
     "metadata": {},
     "output_type": "display_data"
    }
   ],
   "source": [
    "fig, ax = plt.subplots()\n",
    "\n",
    "plt.axhline(y = 0, color = 'blue', linestyle = '-')\n",
    "plt.axhline(y = -1, color = 'blue', linestyle = ':')\n",
    "plt.axhline(y = 1, color = 'blue', linestyle = ':')\n",
    "\n",
    "\n",
    "bp = ax.boxplot(data) # data goes here\n",
    "plt.xticks([1, 2], [\"Old\", \"Young\"]) # use \\n for new line if desired\n",
    "\n",
    "\n",
    "plt.show()"
   ]
  },
  {
   "cell_type": "markdown",
   "id": "25e3f44f",
   "metadata": {},
   "source": [
    "**Exercise 5.2** Why do you think we added lines at -1, 0, and 1? What do these values represent in terms of log2FoldChange?"
   ]
  },
  {
   "cell_type": "code",
   "execution_count": null,
   "id": "73715440",
   "metadata": {},
   "outputs": [],
   "source": [
    "# answer in a comment here\n",
    "#These lines would represent the lower and higher relative expression at -1 and 1, respectively. And 0 would represent the reference."
   ]
  },
  {
   "cell_type": "markdown",
   "id": "fa7c2940",
   "metadata": {},
   "source": [
    "## (6) SciPy\n",
    "Another question to ask is if the levels of RNA expression correlate with protein expression. While we would expect for there to be a 1:1 relationship between RNA and protein (according to the central dogma), as you will see, this is not what we oftentimes observe."
   ]
  },
  {
   "cell_type": "code",
   "execution_count": 96,
   "id": "f5be4586",
   "metadata": {},
   "outputs": [],
   "source": [
    "from scipy import stats # we are using the stats package in particular"
   ]
  },
  {
   "cell_type": "markdown",
   "id": "6d033105",
   "metadata": {},
   "source": [
    "The first thing we need to do is to identify which patients and genes are shared between the transcriptomic and proteomic data sets.\n",
    "\n",
    "Luckily for us, all 122 patients in the Brca dataset have clinical, transcriptomic, and proteomic data. If this were not the case (such as in the colon cancer database), we would use intersect1d() to fix this. We will still need to use intersect1d() to determine which genes are shared.\n",
    "\n",
    "**Exercise 6.1** To make sure the data frames match:\n",
    "\n",
    "1. Identify the names of the genes that are shared between the two datasets (hint: use intersect1d()). Is this data the row or column names?\n",
    "2. Create the rna_shared and prot_shared data frames; ie dataframes with only genes that are shared between rna and protein data. (Hint: how can we access rows/columns by name?)."
   ]
  },
  {
   "cell_type": "code",
   "execution_count": 100,
   "id": "a5cf7b19",
   "metadata": {},
   "outputs": [
    {
     "ename": "KeyError",
     "evalue": "\"None of [Index(['CPT000814', 'CPT001846', 'X01BR001', 'X01BR008', 'X01BR009',\\n       'X01BR010', 'X01BR015', 'X01BR017', 'X01BR018', 'X01BR020',\\n       ...\\n       'X20BR002', 'X20BR005', 'X20BR006', 'X20BR007', 'X20BR008', 'X21BR001',\\n       'X21BR002', 'X21BR010', 'X22BR005', 'X22BR006'],\\n      dtype='object', name='Name', length=122)] are in the [columns]\"",
     "output_type": "error",
     "traceback": [
      "\u001b[0;31m---------------------------------------------------------------------------\u001b[0m",
      "\u001b[0;31mKeyError\u001b[0m                                  Traceback (most recent call last)",
      "Cell \u001b[0;32mIn[100], line 5\u001b[0m\n\u001b[1;32m      2\u001b[0m shared_rna_prot \u001b[38;5;241m=\u001b[39m np\u001b[38;5;241m.\u001b[39mintersect1d(rna_data\u001b[38;5;241m.\u001b[39mindex, protein_data\u001b[38;5;241m.\u001b[39mindex)\n\u001b[1;32m      4\u001b[0m \u001b[38;5;66;03m# 2. Create the two data frames\u001b[39;00m\n\u001b[0;32m----> 5\u001b[0m rna_shared \u001b[38;5;241m=\u001b[39m rna_data[shared_rna_prot]\n\u001b[1;32m      6\u001b[0m prot_shared \u001b[38;5;241m=\u001b[39m protein_data[shared_rna_prot]\n",
      "File \u001b[0;32m~/anaconda3/lib/python3.11/site-packages/pandas/core/frame.py:3902\u001b[0m, in \u001b[0;36mDataFrame.__getitem__\u001b[0;34m(self, key)\u001b[0m\n\u001b[1;32m   3900\u001b[0m     \u001b[38;5;28;01mif\u001b[39;00m is_iterator(key):\n\u001b[1;32m   3901\u001b[0m         key \u001b[38;5;241m=\u001b[39m \u001b[38;5;28mlist\u001b[39m(key)\n\u001b[0;32m-> 3902\u001b[0m     indexer \u001b[38;5;241m=\u001b[39m \u001b[38;5;28mself\u001b[39m\u001b[38;5;241m.\u001b[39mcolumns\u001b[38;5;241m.\u001b[39m_get_indexer_strict(key, \u001b[38;5;124m\"\u001b[39m\u001b[38;5;124mcolumns\u001b[39m\u001b[38;5;124m\"\u001b[39m)[\u001b[38;5;241m1\u001b[39m]\n\u001b[1;32m   3904\u001b[0m \u001b[38;5;66;03m# take() does not accept boolean indexers\u001b[39;00m\n\u001b[1;32m   3905\u001b[0m \u001b[38;5;28;01mif\u001b[39;00m \u001b[38;5;28mgetattr\u001b[39m(indexer, \u001b[38;5;124m\"\u001b[39m\u001b[38;5;124mdtype\u001b[39m\u001b[38;5;124m\"\u001b[39m, \u001b[38;5;28;01mNone\u001b[39;00m) \u001b[38;5;241m==\u001b[39m \u001b[38;5;28mbool\u001b[39m:\n",
      "File \u001b[0;32m~/anaconda3/lib/python3.11/site-packages/pandas/core/indexes/base.py:6114\u001b[0m, in \u001b[0;36mIndex._get_indexer_strict\u001b[0;34m(self, key, axis_name)\u001b[0m\n\u001b[1;32m   6111\u001b[0m \u001b[38;5;28;01melse\u001b[39;00m:\n\u001b[1;32m   6112\u001b[0m     keyarr, indexer, new_indexer \u001b[38;5;241m=\u001b[39m \u001b[38;5;28mself\u001b[39m\u001b[38;5;241m.\u001b[39m_reindex_non_unique(keyarr)\n\u001b[0;32m-> 6114\u001b[0m \u001b[38;5;28mself\u001b[39m\u001b[38;5;241m.\u001b[39m_raise_if_missing(keyarr, indexer, axis_name)\n\u001b[1;32m   6116\u001b[0m keyarr \u001b[38;5;241m=\u001b[39m \u001b[38;5;28mself\u001b[39m\u001b[38;5;241m.\u001b[39mtake(indexer)\n\u001b[1;32m   6117\u001b[0m \u001b[38;5;28;01mif\u001b[39;00m \u001b[38;5;28misinstance\u001b[39m(key, Index):\n\u001b[1;32m   6118\u001b[0m     \u001b[38;5;66;03m# GH 42790 - Preserve name from an Index\u001b[39;00m\n",
      "File \u001b[0;32m~/anaconda3/lib/python3.11/site-packages/pandas/core/indexes/base.py:6175\u001b[0m, in \u001b[0;36mIndex._raise_if_missing\u001b[0;34m(self, key, indexer, axis_name)\u001b[0m\n\u001b[1;32m   6173\u001b[0m     \u001b[38;5;28;01mif\u001b[39;00m use_interval_msg:\n\u001b[1;32m   6174\u001b[0m         key \u001b[38;5;241m=\u001b[39m \u001b[38;5;28mlist\u001b[39m(key)\n\u001b[0;32m-> 6175\u001b[0m     \u001b[38;5;28;01mraise\u001b[39;00m \u001b[38;5;167;01mKeyError\u001b[39;00m(\u001b[38;5;124mf\u001b[39m\u001b[38;5;124m\"\u001b[39m\u001b[38;5;124mNone of [\u001b[39m\u001b[38;5;132;01m{\u001b[39;00mkey\u001b[38;5;132;01m}\u001b[39;00m\u001b[38;5;124m] are in the [\u001b[39m\u001b[38;5;132;01m{\u001b[39;00maxis_name\u001b[38;5;132;01m}\u001b[39;00m\u001b[38;5;124m]\u001b[39m\u001b[38;5;124m\"\u001b[39m)\n\u001b[1;32m   6177\u001b[0m not_found \u001b[38;5;241m=\u001b[39m \u001b[38;5;28mlist\u001b[39m(ensure_index(key)[missing_mask\u001b[38;5;241m.\u001b[39mnonzero()[\u001b[38;5;241m0\u001b[39m]]\u001b[38;5;241m.\u001b[39munique())\n\u001b[1;32m   6178\u001b[0m \u001b[38;5;28;01mraise\u001b[39;00m \u001b[38;5;167;01mKeyError\u001b[39;00m(\u001b[38;5;124mf\u001b[39m\u001b[38;5;124m\"\u001b[39m\u001b[38;5;132;01m{\u001b[39;00mnot_found\u001b[38;5;132;01m}\u001b[39;00m\u001b[38;5;124m not in index\u001b[39m\u001b[38;5;124m\"\u001b[39m)\n",
      "\u001b[0;31mKeyError\u001b[0m: \"None of [Index(['CPT000814', 'CPT001846', 'X01BR001', 'X01BR008', 'X01BR009',\\n       'X01BR010', 'X01BR015', 'X01BR017', 'X01BR018', 'X01BR020',\\n       ...\\n       'X20BR002', 'X20BR005', 'X20BR006', 'X20BR007', 'X20BR008', 'X21BR001',\\n       'X21BR002', 'X21BR010', 'X22BR005', 'X22BR006'],\\n      dtype='object', name='Name', length=122)] are in the [columns]\""
     ]
    }
   ],
   "source": [
    " \n",
    "shared_rna_prot = np.intersect1d(rna_data.index, protein_data.index)\n",
    "\n",
    "\n",
    "rna_shared = rna_data[shared_rna_prot]\n",
    "prot_shared = protein_data[shared_rna_prot]"
   ]
  },
  {
   "cell_type": "markdown",
   "id": "7a365ac5",
   "metadata": {},
   "source": [
    "Now, we can see how correlated the RNA and protein levels are. We'll use Spearman correlation from the stats library, which is spearmanr().\n",
    "\n",
    "**Exercise 6.2** Choose a gene and get the Spearman correlation of the rna to protein of that gene."
   ]
  },
  {
   "cell_type": "code",
   "execution_count": 99,
   "id": "ffc0f52b",
   "metadata": {},
   "outputs": [
    {
     "ename": "NameError",
     "evalue": "name 'rna_shared' is not defined",
     "output_type": "error",
     "traceback": [
      "\u001b[0;31m---------------------------------------------------------------------------\u001b[0m",
      "\u001b[0;31mNameError\u001b[0m                                 Traceback (most recent call last)",
      "Cell \u001b[0;32mIn[99], line 2\u001b[0m\n\u001b[1;32m      1\u001b[0m \u001b[38;5;66;03m# we need the nan_policy=\"omit\" to throw out NaN values\u001b[39;00m\n\u001b[0;32m----> 2\u001b[0m corr, pval \u001b[38;5;241m=\u001b[39m stats\u001b[38;5;241m.\u001b[39mspearmanr(rna_shared[\u001b[38;5;124m\"\u001b[39m\u001b[38;5;124mMYC\u001b[39m\u001b[38;5;124m\"\u001b[39m], prot_shared[\u001b[38;5;124m\"\u001b[39m\u001b[38;5;124mMYC\u001b[39m\u001b[38;5;124m\"\u001b[39m], nan_policy\u001b[38;5;241m=\u001b[39m\u001b[38;5;124m\"\u001b[39m\u001b[38;5;124momit\u001b[39m\u001b[38;5;124m\"\u001b[39m)\n\u001b[1;32m      4\u001b[0m \u001b[38;5;28mprint\u001b[39m(\u001b[38;5;124mf\u001b[39m\u001b[38;5;124m\"\u001b[39m\u001b[38;5;124mThe correlation of MYC is \u001b[39m\u001b[38;5;132;01m{\u001b[39;00m\u001b[38;5;28mround\u001b[39m(corr,\u001b[38;5;250m \u001b[39m\u001b[38;5;241m3\u001b[39m)\u001b[38;5;132;01m}\u001b[39;00m\u001b[38;5;124m (p = \u001b[39m\u001b[38;5;132;01m{\u001b[39;00m\u001b[38;5;28mround\u001b[39m(pval,\u001b[38;5;250m \u001b[39m\u001b[38;5;241m10\u001b[39m)\u001b[38;5;132;01m}\u001b[39;00m\u001b[38;5;124m).\u001b[39m\u001b[38;5;124m\"\u001b[39m)\n",
      "\u001b[0;31mNameError\u001b[0m: name 'rna_shared' is not defined"
     ]
    }
   ],
   "source": [
    "\n",
    "corr, pval = stats.spearmanr(rna_shared[\"MYC\"], prot_shared[\"MYC\"], nan_policy=\"omit\")\n",
    "\n",
    "print(f\"The correlation of MYC is {round(corr, 3)} (p = {round(pval, 10)}).\")"
   ]
  },
  {
   "cell_type": "markdown",
   "id": "21464da2",
   "metadata": {},
   "source": [
    "**Exercise 6.3** What is your gene's Spearman correlation? What does that mean mathematically? What could this represent biologically? Look into the literature to see if it corroborates this idea."
   ]
  },
  {
   "cell_type": "code",
   "execution_count": null,
   "id": "f424914b",
   "metadata": {},
   "outputs": [],
   "source": [
    "# answer in a comment here\n",
    "#i'm not sure but a positive correlation between RNA and protein levels for a gene means positive increase for both if one increases.\n",
    "#mathematically it means 1 means a positive relationship so both increase, -1 means both decrease, 0 means they both remain the same "
   ]
  },
  {
   "cell_type": "markdown",
   "id": "d123f959",
   "metadata": {},
   "source": [
    "## (7) Heatmaps\n",
    "**Exercise 7.1** A problem arises if we want to compare many correlations. Heatmaps are useful for visualizing a large number of comparisons. To make a heatmap, we'll use the heatmap() function from seaborn. Let's do the following:\n",
    "\n",
    "1. Set up our data frame to hold all comparisons. All you need to do is to access the first 20 gene names.\n",
    "2. Calculate the correlations for the first 20 genes (just to save time). You'll need to use two for loops.\n",
    "3. Call heatmap() -- this is filled in for you!\n",
    "4. Interpret the data. There is a \"light\" diagonal along the heatmap from the top-left to bottom-right. Is this expected? Why or why not?"
   ]
  },
  {
   "cell_type": "code",
   "execution_count": 101,
   "id": "79e1b2a0",
   "metadata": {},
   "outputs": [],
   "source": [
    "import seaborn as sns"
   ]
  },
  {
   "cell_type": "code",
   "execution_count": 105,
   "id": "5149313c",
   "metadata": {},
   "outputs": [
    {
     "ename": "ValueError",
     "evalue": "Index data must be 1-dimensional",
     "output_type": "error",
     "traceback": [
      "\u001b[0;31m---------------------------------------------------------------------------\u001b[0m",
      "\u001b[0;31mValueError\u001b[0m                                Traceback (most recent call last)",
      "File \u001b[0;32m~/anaconda3/lib/python3.11/site-packages/pandas/core/indexes/base.py:559\u001b[0m, in \u001b[0;36mIndex.__new__\u001b[0;34m(cls, data, dtype, copy, name, tupleize_cols)\u001b[0m\n\u001b[1;32m    558\u001b[0m \u001b[38;5;28;01mtry\u001b[39;00m:\n\u001b[0;32m--> 559\u001b[0m     arr \u001b[38;5;241m=\u001b[39m sanitize_array(data, \u001b[38;5;28;01mNone\u001b[39;00m, dtype\u001b[38;5;241m=\u001b[39mdtype, copy\u001b[38;5;241m=\u001b[39mcopy)\n\u001b[1;32m    560\u001b[0m \u001b[38;5;28;01mexcept\u001b[39;00m \u001b[38;5;167;01mValueError\u001b[39;00m \u001b[38;5;28;01mas\u001b[39;00m err:\n",
      "File \u001b[0;32m~/anaconda3/lib/python3.11/site-packages/pandas/core/construction.py:636\u001b[0m, in \u001b[0;36msanitize_array\u001b[0;34m(data, index, dtype, copy, allow_2d)\u001b[0m\n\u001b[1;32m    634\u001b[0m             subarr \u001b[38;5;241m=\u001b[39m maybe_infer_to_datetimelike(subarr)\n\u001b[0;32m--> 636\u001b[0m subarr \u001b[38;5;241m=\u001b[39m _sanitize_ndim(subarr, data, dtype, index, allow_2d\u001b[38;5;241m=\u001b[39mallow_2d)\n\u001b[1;32m    638\u001b[0m \u001b[38;5;28;01mif\u001b[39;00m \u001b[38;5;28misinstance\u001b[39m(subarr, np\u001b[38;5;241m.\u001b[39mndarray):\n\u001b[1;32m    639\u001b[0m     \u001b[38;5;66;03m# at this point we should have dtype be None or subarr.dtype == dtype\u001b[39;00m\n",
      "File \u001b[0;32m~/anaconda3/lib/python3.11/site-packages/pandas/core/construction.py:695\u001b[0m, in \u001b[0;36m_sanitize_ndim\u001b[0;34m(result, data, dtype, index, allow_2d)\u001b[0m\n\u001b[1;32m    694\u001b[0m         \u001b[38;5;28;01mreturn\u001b[39;00m result\n\u001b[0;32m--> 695\u001b[0m     \u001b[38;5;28;01mraise\u001b[39;00m \u001b[38;5;167;01mValueError\u001b[39;00m(\n\u001b[1;32m    696\u001b[0m         \u001b[38;5;124mf\u001b[39m\u001b[38;5;124m\"\u001b[39m\u001b[38;5;124mData must be 1-dimensional, got ndarray of shape \u001b[39m\u001b[38;5;132;01m{\u001b[39;00mdata\u001b[38;5;241m.\u001b[39mshape\u001b[38;5;132;01m}\u001b[39;00m\u001b[38;5;124m instead\u001b[39m\u001b[38;5;124m\"\u001b[39m\n\u001b[1;32m    697\u001b[0m     )\n\u001b[1;32m    698\u001b[0m \u001b[38;5;28;01mif\u001b[39;00m is_object_dtype(dtype) \u001b[38;5;129;01mand\u001b[39;00m \u001b[38;5;28misinstance\u001b[39m(dtype, ExtensionDtype):\n\u001b[1;32m    699\u001b[0m     \u001b[38;5;66;03m# i.e. NumpyEADtype(\"O\")\u001b[39;00m\n",
      "\u001b[0;31mValueError\u001b[0m: Data must be 1-dimensional, got ndarray of shape (20, 23121) instead",
      "\nThe above exception was the direct cause of the following exception:\n",
      "\u001b[0;31mValueError\u001b[0m                                Traceback (most recent call last)",
      "Cell \u001b[0;32mIn[105], line 7\u001b[0m\n\u001b[1;32m      4\u001b[0m gene_names \u001b[38;5;241m=\u001b[39m rna_data[:ncomparisons]\n\u001b[1;32m      6\u001b[0m \u001b[38;5;66;03m# Initialize the correlation data frame\u001b[39;00m\n\u001b[0;32m----> 7\u001b[0m corr_df \u001b[38;5;241m=\u001b[39m pd\u001b[38;5;241m.\u001b[39mDataFrame(np\u001b[38;5;241m.\u001b[39mndarray(shape\u001b[38;5;241m=\u001b[39m(ncomparisons, ncomparisons), dtype\u001b[38;5;241m=\u001b[39mnp\u001b[38;5;241m.\u001b[39mfloat16),\n\u001b[1;32m      8\u001b[0m                       index\u001b[38;5;241m=\u001b[39mgene_names,\n\u001b[1;32m      9\u001b[0m                       columns\u001b[38;5;241m=\u001b[39mgene_names)\n\u001b[1;32m     11\u001b[0m \u001b[38;5;66;03m# Calculate correlations for the first 20 genes\u001b[39;00m\n\u001b[1;32m     12\u001b[0m \u001b[38;5;28;01mfor\u001b[39;00m g1 \u001b[38;5;129;01min\u001b[39;00m gene_names:\n",
      "File \u001b[0;32m~/anaconda3/lib/python3.11/site-packages/pandas/core/frame.py:785\u001b[0m, in \u001b[0;36mDataFrame.__init__\u001b[0;34m(self, data, index, columns, dtype, copy)\u001b[0m\n\u001b[1;32m    774\u001b[0m         mgr \u001b[38;5;241m=\u001b[39m dict_to_mgr(\n\u001b[1;32m    775\u001b[0m             \u001b[38;5;66;03m# error: Item \"ndarray\" of \"Union[ndarray, Series, Index]\" has no\u001b[39;00m\n\u001b[1;32m    776\u001b[0m             \u001b[38;5;66;03m# attribute \"name\"\u001b[39;00m\n\u001b[0;32m   (...)\u001b[0m\n\u001b[1;32m    782\u001b[0m             copy\u001b[38;5;241m=\u001b[39m_copy,\n\u001b[1;32m    783\u001b[0m         )\n\u001b[1;32m    784\u001b[0m     \u001b[38;5;28;01melse\u001b[39;00m:\n\u001b[0;32m--> 785\u001b[0m         mgr \u001b[38;5;241m=\u001b[39m ndarray_to_mgr(\n\u001b[1;32m    786\u001b[0m             data,\n\u001b[1;32m    787\u001b[0m             index,\n\u001b[1;32m    788\u001b[0m             columns,\n\u001b[1;32m    789\u001b[0m             dtype\u001b[38;5;241m=\u001b[39mdtype,\n\u001b[1;32m    790\u001b[0m             copy\u001b[38;5;241m=\u001b[39mcopy,\n\u001b[1;32m    791\u001b[0m             typ\u001b[38;5;241m=\u001b[39mmanager,\n\u001b[1;32m    792\u001b[0m         )\n\u001b[1;32m    794\u001b[0m \u001b[38;5;66;03m# For data is list-like, or Iterable (will consume into list)\u001b[39;00m\n\u001b[1;32m    795\u001b[0m \u001b[38;5;28;01melif\u001b[39;00m is_list_like(data):\n",
      "File \u001b[0;32m~/anaconda3/lib/python3.11/site-packages/pandas/core/internals/construction.py:332\u001b[0m, in \u001b[0;36mndarray_to_mgr\u001b[0;34m(values, index, columns, dtype, copy, typ)\u001b[0m\n\u001b[1;32m    323\u001b[0m     values \u001b[38;5;241m=\u001b[39m sanitize_array(\n\u001b[1;32m    324\u001b[0m         values,\n\u001b[1;32m    325\u001b[0m         \u001b[38;5;28;01mNone\u001b[39;00m,\n\u001b[0;32m   (...)\u001b[0m\n\u001b[1;32m    328\u001b[0m         allow_2d\u001b[38;5;241m=\u001b[39m\u001b[38;5;28;01mTrue\u001b[39;00m,\n\u001b[1;32m    329\u001b[0m     )\n\u001b[1;32m    331\u001b[0m \u001b[38;5;66;03m# _prep_ndarraylike ensures that values.ndim == 2 at this point\u001b[39;00m\n\u001b[0;32m--> 332\u001b[0m index, columns \u001b[38;5;241m=\u001b[39m _get_axes(\n\u001b[1;32m    333\u001b[0m     values\u001b[38;5;241m.\u001b[39mshape[\u001b[38;5;241m0\u001b[39m], values\u001b[38;5;241m.\u001b[39mshape[\u001b[38;5;241m1\u001b[39m], index\u001b[38;5;241m=\u001b[39mindex, columns\u001b[38;5;241m=\u001b[39mcolumns\n\u001b[1;32m    334\u001b[0m )\n\u001b[1;32m    336\u001b[0m _check_values_indices_shape_match(values, index, columns)\n\u001b[1;32m    338\u001b[0m \u001b[38;5;28;01mif\u001b[39;00m typ \u001b[38;5;241m==\u001b[39m \u001b[38;5;124m\"\u001b[39m\u001b[38;5;124marray\u001b[39m\u001b[38;5;124m\"\u001b[39m:\n",
      "File \u001b[0;32m~/anaconda3/lib/python3.11/site-packages/pandas/core/internals/construction.py:751\u001b[0m, in \u001b[0;36m_get_axes\u001b[0;34m(N, K, index, columns)\u001b[0m\n\u001b[1;32m    749\u001b[0m     index \u001b[38;5;241m=\u001b[39m default_index(N)\n\u001b[1;32m    750\u001b[0m \u001b[38;5;28;01melse\u001b[39;00m:\n\u001b[0;32m--> 751\u001b[0m     index \u001b[38;5;241m=\u001b[39m ensure_index(index)\n\u001b[1;32m    753\u001b[0m \u001b[38;5;28;01mif\u001b[39;00m columns \u001b[38;5;129;01mis\u001b[39;00m \u001b[38;5;28;01mNone\u001b[39;00m:\n\u001b[1;32m    754\u001b[0m     columns \u001b[38;5;241m=\u001b[39m default_index(K)\n",
      "File \u001b[0;32m~/anaconda3/lib/python3.11/site-packages/pandas/core/indexes/base.py:7568\u001b[0m, in \u001b[0;36mensure_index\u001b[0;34m(index_like, copy)\u001b[0m\n\u001b[1;32m   7566\u001b[0m         \u001b[38;5;28;01mreturn\u001b[39;00m Index(index_like, copy\u001b[38;5;241m=\u001b[39mcopy, tupleize_cols\u001b[38;5;241m=\u001b[39m\u001b[38;5;28;01mFalse\u001b[39;00m)\n\u001b[1;32m   7567\u001b[0m \u001b[38;5;28;01melse\u001b[39;00m:\n\u001b[0;32m-> 7568\u001b[0m     \u001b[38;5;28;01mreturn\u001b[39;00m Index(index_like, copy\u001b[38;5;241m=\u001b[39mcopy)\n",
      "File \u001b[0;32m~/anaconda3/lib/python3.11/site-packages/pandas/core/indexes/base.py:526\u001b[0m, in \u001b[0;36mIndex.__new__\u001b[0;34m(cls, data, dtype, copy, name, tupleize_cols)\u001b[0m\n\u001b[1;32m    524\u001b[0m     \u001b[38;5;28;01mraise\u001b[39;00m \u001b[38;5;28mcls\u001b[39m\u001b[38;5;241m.\u001b[39m_raise_scalar_data_error(data)\n\u001b[1;32m    525\u001b[0m \u001b[38;5;28;01melif\u001b[39;00m \u001b[38;5;28mhasattr\u001b[39m(data, \u001b[38;5;124m\"\u001b[39m\u001b[38;5;124m__array__\u001b[39m\u001b[38;5;124m\"\u001b[39m):\n\u001b[0;32m--> 526\u001b[0m     \u001b[38;5;28;01mreturn\u001b[39;00m Index(np\u001b[38;5;241m.\u001b[39masarray(data), dtype\u001b[38;5;241m=\u001b[39mdtype, copy\u001b[38;5;241m=\u001b[39mcopy, name\u001b[38;5;241m=\u001b[39mname)\n\u001b[1;32m    527\u001b[0m \u001b[38;5;28;01melif\u001b[39;00m \u001b[38;5;129;01mnot\u001b[39;00m is_list_like(data) \u001b[38;5;129;01mand\u001b[39;00m \u001b[38;5;129;01mnot\u001b[39;00m \u001b[38;5;28misinstance\u001b[39m(data, \u001b[38;5;28mmemoryview\u001b[39m):\n\u001b[1;32m    528\u001b[0m     \u001b[38;5;66;03m# 2022-11-16 the memoryview check is only necessary on some CI\u001b[39;00m\n\u001b[1;32m    529\u001b[0m     \u001b[38;5;66;03m#  builds, not clear why\u001b[39;00m\n\u001b[1;32m    530\u001b[0m     \u001b[38;5;28;01mraise\u001b[39;00m \u001b[38;5;28mcls\u001b[39m\u001b[38;5;241m.\u001b[39m_raise_scalar_data_error(data)\n",
      "File \u001b[0;32m~/anaconda3/lib/python3.11/site-packages/pandas/core/indexes/base.py:564\u001b[0m, in \u001b[0;36mIndex.__new__\u001b[0;34m(cls, data, dtype, copy, name, tupleize_cols)\u001b[0m\n\u001b[1;32m    562\u001b[0m         \u001b[38;5;28;01mraise\u001b[39;00m \u001b[38;5;28mcls\u001b[39m\u001b[38;5;241m.\u001b[39m_raise_scalar_data_error(data) \u001b[38;5;28;01mfrom\u001b[39;00m \u001b[38;5;21;01merr\u001b[39;00m\n\u001b[1;32m    563\u001b[0m     \u001b[38;5;28;01mif\u001b[39;00m \u001b[38;5;124m\"\u001b[39m\u001b[38;5;124mData must be 1-dimensional\u001b[39m\u001b[38;5;124m\"\u001b[39m \u001b[38;5;129;01min\u001b[39;00m \u001b[38;5;28mstr\u001b[39m(err):\n\u001b[0;32m--> 564\u001b[0m         \u001b[38;5;28;01mraise\u001b[39;00m \u001b[38;5;167;01mValueError\u001b[39;00m(\u001b[38;5;124m\"\u001b[39m\u001b[38;5;124mIndex data must be 1-dimensional\u001b[39m\u001b[38;5;124m\"\u001b[39m) \u001b[38;5;28;01mfrom\u001b[39;00m \u001b[38;5;21;01merr\u001b[39;00m\n\u001b[1;32m    565\u001b[0m     \u001b[38;5;28;01mraise\u001b[39;00m\n\u001b[1;32m    566\u001b[0m arr \u001b[38;5;241m=\u001b[39m ensure_wrapped_if_datetimelike(arr)\n",
      "\u001b[0;31mValueError\u001b[0m: Index data must be 1-dimensional"
     ]
    }
   ],
   "source": [
    "ncomparisons = 20\n",
    "\n",
    "gene_names = rna_data[:ncomparisons]\n",
    "\n",
    "corr_df = pd.DataFrame(np.ndarray(shape=(ncomparisons, ncomparisons), dtype=np.float16),\n",
    "                      index=gene_names,\n",
    "                      columns=gene_names)\n",
    "for g1 in gene_names:\n",
    "    for g2 in gene_names:\n",
    "        # Calculate the correlations between protein and RNA (replace with your data)\n",
    "        corr, _ = stats.spearmanr(rna_shared[g1], prot_shared[g2], nan_policy=\"omit\")\n",
    "        # Store the correlation in corr_df\n",
    "        corr_df.loc[g1, g2] = corr\n",
    "\n",
    "\n",
    "plot = sns.heatmap(\n",
    "    corr_df,\n",
    "    cmap='mako',\n",
    ")\n",
    "plot.set_xlabel('Protein', fontsize=10)\n",
    "plot.set_ylabel('RNA', fontsize=10)\n",
    "plt.show()"
   ]
  },
  {
   "cell_type": "markdown",
   "id": "127284e2",
   "metadata": {},
   "source": [
    "## (8) More with Seaborn\n",
    "seaborn is a nice package which works well with matplotlib and makes prettier plots with more control over the figure.\n",
    "\n",
    "Here's how you make a scatter plot with seaborn, for example:"
   ]
  },
  {
   "cell_type": "code",
   "execution_count": 103,
   "id": "e7d72523",
   "metadata": {},
   "outputs": [
    {
     "name": "stderr",
     "output_type": "stream",
     "text": [
      "/Users/hunter/anaconda3/lib/python3.11/site-packages/seaborn/_oldcore.py:1498: FutureWarning: is_categorical_dtype is deprecated and will be removed in a future version. Use isinstance(dtype, CategoricalDtype) instead\n",
      "  if pd.api.types.is_categorical_dtype(vector):\n",
      "/Users/hunter/anaconda3/lib/python3.11/site-packages/seaborn/_oldcore.py:1498: FutureWarning: is_categorical_dtype is deprecated and will be removed in a future version. Use isinstance(dtype, CategoricalDtype) instead\n",
      "  if pd.api.types.is_categorical_dtype(vector):\n"
     ]
    },
    {
     "data": {
      "image/png": "[encoded data removed]",
      "text/plain": [
       "<Figure size 640x480 with 1 Axes>"
      ]
     },
     "metadata": {},
     "output_type": "display_data"
    }
   ],
   "source": [
    "fig, ax = plt.subplots()\n",
    "\n",
    "sns.scatterplot( # x-axis\n",
    "    x = clinical_data.loc[:, \"Age.in.Month\"],\n",
    "    y = protein_data.loc[:, \"DYNLT3\"],# y-axis\n",
    "    legend = \"full\",  # show the legend\n",
    "    ax = ax  # necessary for when plotting more than 1 subplot\n",
    ")\n",
    "\n",
    "fig.suptitle('Age vs. DYNLT3')  # set title\n",
    "\n",
    "plt.show()"
   ]
  },
  {
   "cell_type": "markdown",
   "id": "2b2a98a7",
   "metadata": {},
   "source": [
    "**Exercise 8.1** Update the above plot to:\n",
    "\n",
    "1. Have age in years instead of months.\n",
    "2. Color patients based on gender (or another clinical variable of your choosing)\n",
    "3. Have a side-by-side second plot with a different protein of your choosing"
   ]
  },
  {
   "cell_type": "code",
   "execution_count": 107,
   "id": "0a02927d",
   "metadata": {},
   "outputs": [
    {
     "name": "stderr",
     "output_type": "stream",
     "text": [
      "/Users/hunter/anaconda3/lib/python3.11/site-packages/seaborn/_oldcore.py:1498: FutureWarning: is_categorical_dtype is deprecated and will be removed in a future version. Use isinstance(dtype, CategoricalDtype) instead\n",
      "  if pd.api.types.is_categorical_dtype(vector):\n",
      "/Users/hunter/anaconda3/lib/python3.11/site-packages/seaborn/_oldcore.py:1498: FutureWarning: is_categorical_dtype is deprecated and will be removed in a future version. Use isinstance(dtype, CategoricalDtype) instead\n",
      "  if pd.api.types.is_categorical_dtype(vector):\n",
      "/Users/hunter/anaconda3/lib/python3.11/site-packages/seaborn/_oldcore.py:1498: FutureWarning: is_categorical_dtype is deprecated and will be removed in a future version. Use isinstance(dtype, CategoricalDtype) instead\n",
      "  if pd.api.types.is_categorical_dtype(vector):\n",
      "/Users/hunter/anaconda3/lib/python3.11/site-packages/seaborn/_oldcore.py:1498: FutureWarning: is_categorical_dtype is deprecated and will be removed in a future version. Use isinstance(dtype, CategoricalDtype) instead\n",
      "  if pd.api.types.is_categorical_dtype(vector):\n",
      "/Users/hunter/anaconda3/lib/python3.11/site-packages/seaborn/_oldcore.py:1498: FutureWarning: is_categorical_dtype is deprecated and will be removed in a future version. Use isinstance(dtype, CategoricalDtype) instead\n",
      "  if pd.api.types.is_categorical_dtype(vector):\n",
      "/Users/hunter/anaconda3/lib/python3.11/site-packages/seaborn/_oldcore.py:1498: FutureWarning: is_categorical_dtype is deprecated and will be removed in a future version. Use isinstance(dtype, CategoricalDtype) instead\n",
      "  if pd.api.types.is_categorical_dtype(vector):\n",
      "/Users/hunter/anaconda3/lib/python3.11/site-packages/seaborn/_oldcore.py:1498: FutureWarning: is_categorical_dtype is deprecated and will be removed in a future version. Use isinstance(dtype, CategoricalDtype) instead\n",
      "  if pd.api.types.is_categorical_dtype(vector):\n",
      "/Users/hunter/anaconda3/lib/python3.11/site-packages/seaborn/_oldcore.py:1498: FutureWarning: is_categorical_dtype is deprecated and will be removed in a future version. Use isinstance(dtype, CategoricalDtype) instead\n",
      "  if pd.api.types.is_categorical_dtype(vector):\n",
      "/Users/hunter/anaconda3/lib/python3.11/site-packages/seaborn/_oldcore.py:1498: FutureWarning: is_categorical_dtype is deprecated and will be removed in a future version. Use isinstance(dtype, CategoricalDtype) instead\n",
      "  if pd.api.types.is_categorical_dtype(vector):\n",
      "/Users/hunter/anaconda3/lib/python3.11/site-packages/seaborn/_oldcore.py:1498: FutureWarning: is_categorical_dtype is deprecated and will be removed in a future version. Use isinstance(dtype, CategoricalDtype) instead\n",
      "  if pd.api.types.is_categorical_dtype(vector):\n"
     ]
    },
    {
     "data": {
      "image/png": "[encoded data removed]",
      "text/plain": [
       "<Figure size 1200x500 with 2 Axes>"
      ]
     },
     "metadata": {},
     "output_type": "display_data"
    }
   ],
   "source": [
    "fig, (ax1, ax2) = plt.subplots(1, 2, figsize=(12, 5))\n",
    "\n",
    "\n",
    "sns.scatterplot(\n",
    "    x=clinical_data.loc[:, \"Age.in.Month\"] / 12,  # Age in years\n",
    "    y=protein_data.loc[:, \"DYNLT3\"],\n",
    "    hue=clinical_data.loc[:, \"Gender\"],  # Color by gender (or other clinical variable)\n",
    "    legend=\"full\",\n",
    "    ax=ax1\n",
    ")\n",
    "ax1.set_title('Age vs. DYNLT3')\n",
    "\n",
    "sns.scatterplot(\n",
    "    x=clinical_data.loc[:, \"Age.in.Month\"] / 12,  # Age in years\n",
    "    y=protein_data.loc[:, 'TP53'],\n",
    "    hue=clinical_data.loc[:, \"Gender\"],  # Color by gender (or other clinical variable)\n",
    "    legend=\"full\",\n",
    "    ax=ax2\n",
    ")\n",
    "ax2.set_title('Age vs. TP53')\n",
    "\n",
    "fig.suptitle('Age vs. Protein')  # Set a common title for both subplots\n",
    "\n",
    "plt.show()\n"
   ]
  },
  {
   "cell_type": "markdown",
   "id": "392e7cd4",
   "metadata": {},
   "source": [
    "## (9) Saving Plots\n",
    "Remember, to save a plot, we can call plt.savefig() instead of the plt.show()."
   ]
  },
  {
   "cell_type": "code",
   "execution_count": 108,
   "id": "d83d3ddc",
   "metadata": {},
   "outputs": [
    {
     "name": "stderr",
     "output_type": "stream",
     "text": [
      "/Users/hunter/anaconda3/lib/python3.11/site-packages/seaborn/_oldcore.py:1498: FutureWarning: is_categorical_dtype is deprecated and will be removed in a future version. Use isinstance(dtype, CategoricalDtype) instead\n",
      "  if pd.api.types.is_categorical_dtype(vector):\n",
      "/Users/hunter/anaconda3/lib/python3.11/site-packages/seaborn/_oldcore.py:1498: FutureWarning: is_categorical_dtype is deprecated and will be removed in a future version. Use isinstance(dtype, CategoricalDtype) instead\n",
      "  if pd.api.types.is_categorical_dtype(vector):\n"
     ]
    },
    {
     "data": {
      "image/png": "[encoded data removed]",
      "text/plain": [
       "<Figure size 640x480 with 1 Axes>"
      ]
     },
     "metadata": {},
     "output_type": "display_data"
    }
   ],
   "source": [
    "fig, ax = plt.subplots()\n",
    "\n",
    "sns.scatterplot( # x-axis\n",
    "    x = clinical_data.loc[:, \"Age.in.Month\"],\n",
    "    y = protein_data.loc[:, \"DYNLT3\"],# y-axis\n",
    "    legend = \"full\",  # show the legend\n",
    "    ax = ax  # necessary for when plotting more than 1 subplot\n",
    ")\n",
    "\n",
    "fig.suptitle('Age vs. DYNLT3')  # set title\n",
    "\n",
    "# age_scatter.png is a relative path so check your working directory before running it\n",
    "plt.savefig('age_scatter.png', bbox_inches='tight')"
   ]
  },
  {
   "cell_type": "markdown",
   "id": "bb00966a",
   "metadata": {},
   "source": [
    "# Exercises\n",
    "Only this section will be graded!\n",
    "## 1. Drawing Connections\n",
    "1. Choose a clinical variable and segment the cohort into two groups. \n",
    "2. Find out what the 5 most differentially expressed genes are (we aren't going to do this in a sophisticated way like DESeq, instead just take the mean expression of every single gene within a group and find the gene which has the greatest difference in mean between the two groups)\n",
    "3. Create two scatter plots, side by side, each with one group. Within the scatter plots, plot RNA expression versus protein expression for each of the genes in a different color.\n",
    "4. Add appropriate legend, title, and labels."
   ]
  },
  {
   "cell_type": "code",
   "execution_count": 150,
   "id": "db07b231",
   "metadata": {},
   "outputs": [
    {
     "data": {
      "text/plain": [
       "Text(0.02, 0.5, 'Protein Log2 Fold Change')"
      ]
     },
     "execution_count": 150,
     "metadata": {},
     "output_type": "execute_result"
    },
    {
     "data": {
      "image/png": "[encoded data removed]",
      "text/plain": [
       "<Figure size 640x480 with 2 Axes>"
      ]
     },
     "metadata": {},
     "output_type": "display_data"
    }
   ],
   "source": [
    "rna_data = brca.get_transcriptomics()\n",
    "clinical_data = brca.get_clinical()\n",
    "na_mask = clinical_data.loc[:, 'ERBB2.Updated.Clinical.Status'].isna()\n",
    "masked_clinical = clinical_data.loc[~na_mask, :]\n",
    "masked_rna = rna_data.loc[~na_mask, :]\n",
    "masked_protein = protein_data.loc[~na_mask, :]\n",
    "\n",
    "gene_na_mask = masked_rna.isna().sum() == 0\n",
    "masked_rna = masked_rna.loc[:, gene_na_mask]\n",
    "protein_na_mask = masked_protein.isna().sum() == 0\n",
    "\n",
    "masked_protein = masked_protein.loc[:, protein_na_mask]\n",
    "\n",
    "pos_mask = masked_clinical.loc[:, 'ERBB2.Updated.Clinical.Status' ] == 'positive'\n",
    "diff = masked_rna.loc[pos_mask, :].mean() - masked_rna.loc[-pos_mask, :].mean()\n",
    "shared_mask = diff.index.isin(masked_protein.columns)\n",
    "\n",
    "\n",
    "genes = diff[shared_mask].sort_values(ascending=False)[:5].index\n",
    "\n",
    "fig, axs = plt.subplots(1, 2, sharey=True)\n",
    "for gene in genes:\n",
    "    axs[0].scatter(masked_rna.loc[pos_mask, gene], masked_protein.loc[pos_mask, gene], label=gene)\n",
    "    axs[0].set_title('ERBB2 Positive')\n",
    "for gene in genes:\n",
    "    axs[1].scatter(masked_rna.loc[-pos_mask, gene], masked_protein.loc[-pos_mask, gene], label=gene) \n",
    "    axs[1].set_title('ERBB2 Negative')\n",
    "plt.legend()\n",
    "fig.supxlabel('RNA Log2 Fold Change')\n",
    "fig.supylabel('Protein Log2 Fold Change')"
   ]
  },
  {
   "cell_type": "code",
   "execution_count": null,
   "id": "db82e436",
   "metadata": {},
   "outputs": [],
   "source": []
  },
  {
   "cell_type": "markdown",
   "id": "d374d6f3",
   "metadata": {},
   "source": [
    "## 2. Interpretation Skills\n",
    "This section is short-answer based written responses. Please respond in 2-3 sentences to each question below for full credit.\n",
    "1. What do the numbers within the protein and transcriptomics DataFrames represent? Why do we represent them this way?\n",
    "2. Why are there fewer columns in the protein DataFrame than the transcriptomics one?\n",
    "3. Explain how the central dogma may be broken in between DNA -> RNA -> Proteins and how this might affect our proteomics data.\n",
    "4. Why is proteomics data relatively scarce compared to sequencing data?\n",
    "5. Should we ever expect protein expression to be 0 in a tumor sample?\n",
    "6. What are protein domains and how do they relate to the role of a protein?\n",
    "7. Overexpression of the ERBB2 gene is found in up to 20% of breast cancer cases. ERBB2 encodes the receptor tyrosine-protein kinase erbB-2, frequently called HER2 in humans. Thus, cases in which ERBB2 is overexpressed are referred to as HER2+. Briefly skim the following paper and answer the following questions. https://www.sciencedirect.com/science/article/pii/S1044579X20300493\n",
    ">Is ERBB2 an oncogene or a tumor suppressor gene? How do mutations within the gene affect the prognosis of the disease?\n",
    "<br></br>\n",
    ">What are some treatment strategies for HER2+ breast cancer?\n",
    "<br></br>\n",
    ">What is one recent development that has changed our understanding of HER2+ breast cancer?"
   ]
  },
  {
   "cell_type": "markdown",
   "id": "abcee4a3",
   "metadata": {},
   "source": [
    "1. The numbers in the protein and transcriptomics dataframes represent expression levels measured for each protein in each sample. For transcriptomics it is typically FPKM, and for proteomics it is intensity values from mass spectrometry. Using quantitative values allows us to compare expression across samples.\n",
    "2. There are fewer columns in the protein dataframe because proteomic technology currently can't measure as many proteins as sequencing can measure transcripts. RNA-seq routinely measures 20,000+ genes while proteomics may only evaluate a few thousand proteins.\n",
    "3. Errors in transcription, RNA processing, translation, protein modification...etc can cause protein levels to not match RNA levels, complicating analyses that rely on correlation. Genes can also change their instructions which causes unexpected variations.\n",
    "4. Proteomics data is more scarce primarily due to limitations in technology. Sequencing tech has outpaced mass spec-based proteomics in throughput. Also proteomes are more complex than genomes, and proteomics experiments may find more contamination or other substances due to the specificity.\n",
    "5. We would not expect protein expression to be exactly 0 in a tumor sample, there should be at least a minimal amount of the protein present. Values of 0 will usually mean there's missing data.\n",
    "6. Protein domains are functional subunits within a protein's amino acid sequence that carry out specific jobs. Understanding domains helps elucidate the mechanistic role of a protein.\n",
    "7. ERBB2 is an oncogene, so the mutations that increase expression promote cancer. HER2+ breast cancer has worse prognosis but can be treated with HER2-targeted therapies, such as trastuzumab. A recent finding is that HER2 mutations may also occur and affect prognosis."
   ]
  },
  {
   "cell_type": "markdown",
   "id": "6b5fe38f",
   "metadata": {},
   "source": [
    "## 3. Challenge Exercise - Incorporating Genomics\n",
    "This exercise is optional and is worth extra credit up to 5 points. The combined extra credit between challenge exercises will cap out at 5 points total.\n",
    "<br></br>\n",
    "We can get somatic mutation data for cptac patients the same way we get proteomics, transcriptomical, or clinical. Let's explore some aspects of it.\n",
    "1. Save the BRCA somatic mutation data to `mutation_data`\n",
    "2. Determine the top 10 most commonly mutated genes within the dataset.\n",
    "3. Determine what percent of patients have a mutation in at least one of those genes.\n",
    "4. Create a bar plot that shows percent percent of patients that have exactly 0-10 out of 10 of those mutations. Name axes and titles appropriately."
   ]
  },
  {
   "cell_type": "code",
   "execution_count": null,
   "id": "6c491898",
   "metadata": {},
   "outputs": [],
   "source": []
  },
  {
   "cell_type": "code",
   "execution_count": 114,
   "id": "99ef12fb",
   "metadata": {},
   "outputs": [
    {
     "data": {
      "text/html": [
       "<div>\n",
       "<style scoped>\n",
       "    .dataframe tbody tr th:only-of-type {\n",
       "        vertical-align: middle;\n",
       "    }\n",
       "\n",
       "    .dataframe tbody tr th {\n",
       "        vertical-align: top;\n",
       "    }\n",
       "\n",
       "    .dataframe thead th {\n",
       "        text-align: right;\n",
       "    }\n",
       "</style>\n",
       "<table border=\"1\" class=\"dataframe\">\n",
       "  <thead>\n",
       "    <tr style=\"text-align: right;\">\n",
       "      <th>Name</th>\n",
       "      <th>Gene</th>\n",
       "      <th>Mutation</th>\n",
       "      <th>Location</th>\n",
       "    </tr>\n",
       "    <tr>\n",
       "      <th>Patient_ID</th>\n",
       "      <th></th>\n",
       "      <th></th>\n",
       "      <th></th>\n",
       "    </tr>\n",
       "  </thead>\n",
       "  <tbody>\n",
       "    <tr>\n",
       "      <th>CPT000814</th>\n",
       "      <td>ABCG8</td>\n",
       "      <td>Missense_Mutation</td>\n",
       "      <td>p.V660L</td>\n",
       "    </tr>\n",
       "    <tr>\n",
       "      <th>CPT000814</th>\n",
       "      <td>ACTRT1</td>\n",
       "      <td>Missense_Mutation</td>\n",
       "      <td>p.S138F</td>\n",
       "    </tr>\n",
       "    <tr>\n",
       "      <th>CPT000814</th>\n",
       "      <td>ADA</td>\n",
       "      <td>Missense_Mutation</td>\n",
       "      <td>p.A73T</td>\n",
       "    </tr>\n",
       "    <tr>\n",
       "      <th>CPT000814</th>\n",
       "      <td>AHCTF1</td>\n",
       "      <td>Frame_Shift_Del</td>\n",
       "      <td>p.I1012Sfs*9</td>\n",
       "    </tr>\n",
       "    <tr>\n",
       "      <th>CPT000814</th>\n",
       "      <td>ANGPTL4</td>\n",
       "      <td>Silent</td>\n",
       "      <td>p.C341C</td>\n",
       "    </tr>\n",
       "  </tbody>\n",
       "</table>\n",
       "</div>"
      ],
      "text/plain": [
       "Name           Gene           Mutation      Location\n",
       "Patient_ID                                          \n",
       "CPT000814     ABCG8  Missense_Mutation       p.V660L\n",
       "CPT000814    ACTRT1  Missense_Mutation       p.S138F\n",
       "CPT000814       ADA  Missense_Mutation        p.A73T\n",
       "CPT000814    AHCTF1    Frame_Shift_Del  p.I1012Sfs*9\n",
       "CPT000814   ANGPTL4             Silent       p.C341C"
      ]
     },
     "execution_count": 114,
     "metadata": {},
     "output_type": "execute_result"
    }
   ],
   "source": [
    "brca.get_somatic_mutation().head()"
   ]
  },
  {
   "cell_type": "markdown",
   "id": "ce764047",
   "metadata": {},
   "source": [
    "## 4. Challenge Exercise - Background Research\n",
    "This exercise is optional and is worth extra credit up to 5 points. The combined extra credit between challenge exercises will cap out at 5 points total.\n",
    "<br></br>\n",
    "PAM50 is a breast cancer model based on clustering of breast cancer subtypes by expression of 50 selected genes. Our clinical data contains PAM50 subtypes for every patient.\n",
    "\n",
    "You can read about the methodology more here:\n",
    "https://www.ncbi.nlm.nih.gov/pmc/articles/PMC2667820/\n",
    "\n",
    "Using the CPTAC dataset, recreate one of the findings present in the paper. Create some form of figure to present your finding. In comments below, state your conclusion from the figure and whether it is supported by the paper above."
   ]
  },
  {
   "cell_type": "code",
   "execution_count": null,
   "id": "93af136e",
   "metadata": {},
   "outputs": [],
   "source": [
    "# write code here"
   ]
  }
 ],
 "metadata": {
  "kernelspec": {
   "display_name": "Python 3 (ipykernel)",
   "language": "python",
   "name": "python3"
  },
  "language_info": {
   "codemirror_mode": {
    "name": "ipython",
    "version": 3
   },
   "file_extension": ".py",
   "mimetype": "text/x-python",
   "name": "python",
   "nbconvert_exporter": "python",
   "pygments_lexer": "ipython3",
   "version": "3.11.4"
  }
 },
 "nbformat": 4,
 "nbformat_minor": 5
}
